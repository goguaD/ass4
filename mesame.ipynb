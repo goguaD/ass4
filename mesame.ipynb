{
  "nbformat": 4,
  "nbformat_minor": 0,
  "metadata": {
    "colab": {
      "provenance": [],
      "gpuType": "T4",
      "authorship_tag": "ABX9TyNVJupFLbufdigiRDonLoMF",
      "include_colab_link": true
    },
    "kernelspec": {
      "name": "python3",
      "display_name": "Python 3"
    },
    "language_info": {
      "name": "python"
    },
    "accelerator": "GPU"
  },
  "cells": [
    {
      "cell_type": "markdown",
      "metadata": {
        "id": "view-in-github",
        "colab_type": "text"
      },
      "source": [
        "<a href=\"https://colab.research.google.com/github/goguaD/ass4/blob/main/mesame.ipynb\" target=\"_parent\"><img src=\"https://colab.research.google.com/assets/colab-badge.svg\" alt=\"Open In Colab\"/></a>"
      ]
    },
    {
      "cell_type": "code",
      "source": [
        "!pip install torch torchvision torchaudio\n",
        "!pip install wandb\n",
        "!pip install kaggle"
      ],
      "metadata": {
        "colab": {
          "base_uri": "https://localhost:8080/"
        },
        "id": "3lEcCoNTHkSS",
        "outputId": "e8e128fd-43d4-4233-f642-035e62f4c4d5",
        "collapsed": true
      },
      "execution_count": 1,
      "outputs": [
        {
          "output_type": "stream",
          "name": "stdout",
          "text": [
            "Requirement already satisfied: torch in /usr/local/lib/python3.11/dist-packages (2.6.0+cu124)\n",
            "Requirement already satisfied: torchvision in /usr/local/lib/python3.11/dist-packages (0.21.0+cu124)\n",
            "Requirement already satisfied: torchaudio in /usr/local/lib/python3.11/dist-packages (2.6.0+cu124)\n",
            "Requirement already satisfied: filelock in /usr/local/lib/python3.11/dist-packages (from torch) (3.18.0)\n",
            "Requirement already satisfied: typing-extensions>=4.10.0 in /usr/local/lib/python3.11/dist-packages (from torch) (4.14.0)\n",
            "Requirement already satisfied: networkx in /usr/local/lib/python3.11/dist-packages (from torch) (3.5)\n",
            "Requirement already satisfied: jinja2 in /usr/local/lib/python3.11/dist-packages (from torch) (3.1.6)\n",
            "Requirement already satisfied: fsspec in /usr/local/lib/python3.11/dist-packages (from torch) (2025.3.2)\n",
            "Collecting nvidia-cuda-nvrtc-cu12==12.4.127 (from torch)\n",
            "  Downloading nvidia_cuda_nvrtc_cu12-12.4.127-py3-none-manylinux2014_x86_64.whl.metadata (1.5 kB)\n",
            "Collecting nvidia-cuda-runtime-cu12==12.4.127 (from torch)\n",
            "  Downloading nvidia_cuda_runtime_cu12-12.4.127-py3-none-manylinux2014_x86_64.whl.metadata (1.5 kB)\n",
            "Collecting nvidia-cuda-cupti-cu12==12.4.127 (from torch)\n",
            "  Downloading nvidia_cuda_cupti_cu12-12.4.127-py3-none-manylinux2014_x86_64.whl.metadata (1.6 kB)\n",
            "Collecting nvidia-cudnn-cu12==9.1.0.70 (from torch)\n",
            "  Downloading nvidia_cudnn_cu12-9.1.0.70-py3-none-manylinux2014_x86_64.whl.metadata (1.6 kB)\n",
            "Collecting nvidia-cublas-cu12==12.4.5.8 (from torch)\n",
            "  Downloading nvidia_cublas_cu12-12.4.5.8-py3-none-manylinux2014_x86_64.whl.metadata (1.5 kB)\n",
            "Collecting nvidia-cufft-cu12==11.2.1.3 (from torch)\n",
            "  Downloading nvidia_cufft_cu12-11.2.1.3-py3-none-manylinux2014_x86_64.whl.metadata (1.5 kB)\n",
            "Collecting nvidia-curand-cu12==10.3.5.147 (from torch)\n",
            "  Downloading nvidia_curand_cu12-10.3.5.147-py3-none-manylinux2014_x86_64.whl.metadata (1.5 kB)\n",
            "Collecting nvidia-cusolver-cu12==11.6.1.9 (from torch)\n",
            "  Downloading nvidia_cusolver_cu12-11.6.1.9-py3-none-manylinux2014_x86_64.whl.metadata (1.6 kB)\n",
            "Collecting nvidia-cusparse-cu12==12.3.1.170 (from torch)\n",
            "  Downloading nvidia_cusparse_cu12-12.3.1.170-py3-none-manylinux2014_x86_64.whl.metadata (1.6 kB)\n",
            "Requirement already satisfied: nvidia-cusparselt-cu12==0.6.2 in /usr/local/lib/python3.11/dist-packages (from torch) (0.6.2)\n",
            "Requirement already satisfied: nvidia-nccl-cu12==2.21.5 in /usr/local/lib/python3.11/dist-packages (from torch) (2.21.5)\n",
            "Requirement already satisfied: nvidia-nvtx-cu12==12.4.127 in /usr/local/lib/python3.11/dist-packages (from torch) (12.4.127)\n",
            "Collecting nvidia-nvjitlink-cu12==12.4.127 (from torch)\n",
            "  Downloading nvidia_nvjitlink_cu12-12.4.127-py3-none-manylinux2014_x86_64.whl.metadata (1.5 kB)\n",
            "Requirement already satisfied: triton==3.2.0 in /usr/local/lib/python3.11/dist-packages (from torch) (3.2.0)\n",
            "Requirement already satisfied: sympy==1.13.1 in /usr/local/lib/python3.11/dist-packages (from torch) (1.13.1)\n",
            "Requirement already satisfied: mpmath<1.4,>=1.1.0 in /usr/local/lib/python3.11/dist-packages (from sympy==1.13.1->torch) (1.3.0)\n",
            "Requirement already satisfied: numpy in /usr/local/lib/python3.11/dist-packages (from torchvision) (2.0.2)\n",
            "Requirement already satisfied: pillow!=8.3.*,>=5.3.0 in /usr/local/lib/python3.11/dist-packages (from torchvision) (11.2.1)\n",
            "Requirement already satisfied: MarkupSafe>=2.0 in /usr/local/lib/python3.11/dist-packages (from jinja2->torch) (3.0.2)\n",
            "Downloading nvidia_cublas_cu12-12.4.5.8-py3-none-manylinux2014_x86_64.whl (363.4 MB)\n",
            "\u001b[2K   \u001b[90m━━━━━━━━━━━━━━━━━━━━━━━━━━━━━━━━━━━━━━━━\u001b[0m \u001b[32m363.4/363.4 MB\u001b[0m \u001b[31m3.7 MB/s\u001b[0m eta \u001b[36m0:00:00\u001b[0m\n",
            "\u001b[?25hDownloading nvidia_cuda_cupti_cu12-12.4.127-py3-none-manylinux2014_x86_64.whl (13.8 MB)\n",
            "\u001b[2K   \u001b[90m━━━━━━━━━━━━━━━━━━━━━━━━━━━━━━━━━━━━━━━━\u001b[0m \u001b[32m13.8/13.8 MB\u001b[0m \u001b[31m28.1 MB/s\u001b[0m eta \u001b[36m0:00:00\u001b[0m\n",
            "\u001b[?25hDownloading nvidia_cuda_nvrtc_cu12-12.4.127-py3-none-manylinux2014_x86_64.whl (24.6 MB)\n",
            "\u001b[2K   \u001b[90m━━━━━━━━━━━━━━━━━━━━━━━━━━━━━━━━━━━━━━━━\u001b[0m \u001b[32m24.6/24.6 MB\u001b[0m \u001b[31m23.3 MB/s\u001b[0m eta \u001b[36m0:00:00\u001b[0m\n",
            "\u001b[?25hDownloading nvidia_cuda_runtime_cu12-12.4.127-py3-none-manylinux2014_x86_64.whl (883 kB)\n",
            "\u001b[2K   \u001b[90m━━━━━━━━━━━━━━━━━━━━━━━━━━━━━━━━━━━━━━━━\u001b[0m \u001b[32m883.7/883.7 kB\u001b[0m \u001b[31m29.9 MB/s\u001b[0m eta \u001b[36m0:00:00\u001b[0m\n",
            "\u001b[?25hDownloading nvidia_cudnn_cu12-9.1.0.70-py3-none-manylinux2014_x86_64.whl (664.8 MB)\n",
            "\u001b[2K   \u001b[90m━━━━━━━━━━━━━━━━━━━━━━━━━━━━━━━━━━━━━━━━\u001b[0m \u001b[32m664.8/664.8 MB\u001b[0m \u001b[31m2.4 MB/s\u001b[0m eta \u001b[36m0:00:00\u001b[0m\n",
            "\u001b[?25hDownloading nvidia_cufft_cu12-11.2.1.3-py3-none-manylinux2014_x86_64.whl (211.5 MB)\n",
            "\u001b[2K   \u001b[90m━━━━━━━━━━━━━━━━━━━━━━━━━━━━━━━━━━━━━━━━\u001b[0m \u001b[32m211.5/211.5 MB\u001b[0m \u001b[31m7.5 MB/s\u001b[0m eta \u001b[36m0:00:00\u001b[0m\n",
            "\u001b[?25hDownloading nvidia_curand_cu12-10.3.5.147-py3-none-manylinux2014_x86_64.whl (56.3 MB)\n",
            "\u001b[2K   \u001b[90m━━━━━━━━━━━━━━━━━━━━━━━━━━━━━━━━━━━━━━━━\u001b[0m \u001b[32m56.3/56.3 MB\u001b[0m \u001b[31m12.9 MB/s\u001b[0m eta \u001b[36m0:00:00\u001b[0m\n",
            "\u001b[?25hDownloading nvidia_cusolver_cu12-11.6.1.9-py3-none-manylinux2014_x86_64.whl (127.9 MB)\n",
            "\u001b[2K   \u001b[90m━━━━━━━━━━━━━━━━━━━━━━━━━━━━━━━━━━━━━━━━\u001b[0m \u001b[32m127.9/127.9 MB\u001b[0m \u001b[31m7.5 MB/s\u001b[0m eta \u001b[36m0:00:00\u001b[0m\n",
            "\u001b[?25hDownloading nvidia_cusparse_cu12-12.3.1.170-py3-none-manylinux2014_x86_64.whl (207.5 MB)\n",
            "\u001b[2K   \u001b[90m━━━━━━━━━━━━━━━━━━━━━━━━━━━━━━━━━━━━━━━━\u001b[0m \u001b[32m207.5/207.5 MB\u001b[0m \u001b[31m5.4 MB/s\u001b[0m eta \u001b[36m0:00:00\u001b[0m\n",
            "\u001b[?25hDownloading nvidia_nvjitlink_cu12-12.4.127-py3-none-manylinux2014_x86_64.whl (21.1 MB)\n",
            "\u001b[2K   \u001b[90m━━━━━━━━━━━━━━━━━━━━━━━━━━━━━━━━━━━━━━━━\u001b[0m \u001b[32m21.1/21.1 MB\u001b[0m \u001b[31m78.1 MB/s\u001b[0m eta \u001b[36m0:00:00\u001b[0m\n",
            "\u001b[?25hInstalling collected packages: nvidia-nvjitlink-cu12, nvidia-curand-cu12, nvidia-cufft-cu12, nvidia-cuda-runtime-cu12, nvidia-cuda-nvrtc-cu12, nvidia-cuda-cupti-cu12, nvidia-cublas-cu12, nvidia-cusparse-cu12, nvidia-cudnn-cu12, nvidia-cusolver-cu12\n",
            "  Attempting uninstall: nvidia-nvjitlink-cu12\n",
            "    Found existing installation: nvidia-nvjitlink-cu12 12.5.82\n",
            "    Uninstalling nvidia-nvjitlink-cu12-12.5.82:\n",
            "      Successfully uninstalled nvidia-nvjitlink-cu12-12.5.82\n",
            "  Attempting uninstall: nvidia-curand-cu12\n",
            "    Found existing installation: nvidia-curand-cu12 10.3.6.82\n",
            "    Uninstalling nvidia-curand-cu12-10.3.6.82:\n",
            "      Successfully uninstalled nvidia-curand-cu12-10.3.6.82\n",
            "  Attempting uninstall: nvidia-cufft-cu12\n",
            "    Found existing installation: nvidia-cufft-cu12 11.2.3.61\n",
            "    Uninstalling nvidia-cufft-cu12-11.2.3.61:\n",
            "      Successfully uninstalled nvidia-cufft-cu12-11.2.3.61\n",
            "  Attempting uninstall: nvidia-cuda-runtime-cu12\n",
            "    Found existing installation: nvidia-cuda-runtime-cu12 12.5.82\n",
            "    Uninstalling nvidia-cuda-runtime-cu12-12.5.82:\n",
            "      Successfully uninstalled nvidia-cuda-runtime-cu12-12.5.82\n",
            "  Attempting uninstall: nvidia-cuda-nvrtc-cu12\n",
            "    Found existing installation: nvidia-cuda-nvrtc-cu12 12.5.82\n",
            "    Uninstalling nvidia-cuda-nvrtc-cu12-12.5.82:\n",
            "      Successfully uninstalled nvidia-cuda-nvrtc-cu12-12.5.82\n",
            "  Attempting uninstall: nvidia-cuda-cupti-cu12\n",
            "    Found existing installation: nvidia-cuda-cupti-cu12 12.5.82\n",
            "    Uninstalling nvidia-cuda-cupti-cu12-12.5.82:\n",
            "      Successfully uninstalled nvidia-cuda-cupti-cu12-12.5.82\n",
            "  Attempting uninstall: nvidia-cublas-cu12\n",
            "    Found existing installation: nvidia-cublas-cu12 12.5.3.2\n",
            "    Uninstalling nvidia-cublas-cu12-12.5.3.2:\n",
            "      Successfully uninstalled nvidia-cublas-cu12-12.5.3.2\n",
            "  Attempting uninstall: nvidia-cusparse-cu12\n",
            "    Found existing installation: nvidia-cusparse-cu12 12.5.1.3\n",
            "    Uninstalling nvidia-cusparse-cu12-12.5.1.3:\n",
            "      Successfully uninstalled nvidia-cusparse-cu12-12.5.1.3\n",
            "  Attempting uninstall: nvidia-cudnn-cu12\n",
            "    Found existing installation: nvidia-cudnn-cu12 9.3.0.75\n",
            "    Uninstalling nvidia-cudnn-cu12-9.3.0.75:\n",
            "      Successfully uninstalled nvidia-cudnn-cu12-9.3.0.75\n",
            "  Attempting uninstall: nvidia-cusolver-cu12\n",
            "    Found existing installation: nvidia-cusolver-cu12 11.6.3.83\n",
            "    Uninstalling nvidia-cusolver-cu12-11.6.3.83:\n",
            "      Successfully uninstalled nvidia-cusolver-cu12-11.6.3.83\n",
            "Successfully installed nvidia-cublas-cu12-12.4.5.8 nvidia-cuda-cupti-cu12-12.4.127 nvidia-cuda-nvrtc-cu12-12.4.127 nvidia-cuda-runtime-cu12-12.4.127 nvidia-cudnn-cu12-9.1.0.70 nvidia-cufft-cu12-11.2.1.3 nvidia-curand-cu12-10.3.5.147 nvidia-cusolver-cu12-11.6.1.9 nvidia-cusparse-cu12-12.3.1.170 nvidia-nvjitlink-cu12-12.4.127\n",
            "Requirement already satisfied: wandb in /usr/local/lib/python3.11/dist-packages (0.19.11)\n",
            "Requirement already satisfied: click!=8.0.0,>=7.1 in /usr/local/lib/python3.11/dist-packages (from wandb) (8.2.1)\n",
            "Requirement already satisfied: docker-pycreds>=0.4.0 in /usr/local/lib/python3.11/dist-packages (from wandb) (0.4.0)\n",
            "Requirement already satisfied: gitpython!=3.1.29,>=1.0.0 in /usr/local/lib/python3.11/dist-packages (from wandb) (3.1.44)\n",
            "Requirement already satisfied: platformdirs in /usr/local/lib/python3.11/dist-packages (from wandb) (4.3.8)\n",
            "Requirement already satisfied: protobuf!=4.21.0,!=5.28.0,<7,>=3.19.0 in /usr/local/lib/python3.11/dist-packages (from wandb) (5.29.5)\n",
            "Requirement already satisfied: psutil>=5.0.0 in /usr/local/lib/python3.11/dist-packages (from wandb) (5.9.5)\n",
            "Requirement already satisfied: pydantic<3 in /usr/local/lib/python3.11/dist-packages (from wandb) (2.11.5)\n",
            "Requirement already satisfied: pyyaml in /usr/local/lib/python3.11/dist-packages (from wandb) (6.0.2)\n",
            "Requirement already satisfied: requests<3,>=2.0.0 in /usr/local/lib/python3.11/dist-packages (from wandb) (2.32.3)\n",
            "Requirement already satisfied: sentry-sdk>=2.0.0 in /usr/local/lib/python3.11/dist-packages (from wandb) (2.29.1)\n",
            "Requirement already satisfied: setproctitle in /usr/local/lib/python3.11/dist-packages (from wandb) (1.3.6)\n",
            "Requirement already satisfied: setuptools in /usr/local/lib/python3.11/dist-packages (from wandb) (75.2.0)\n",
            "Requirement already satisfied: typing-extensions<5,>=4.4 in /usr/local/lib/python3.11/dist-packages (from wandb) (4.14.0)\n",
            "Requirement already satisfied: six>=1.4.0 in /usr/local/lib/python3.11/dist-packages (from docker-pycreds>=0.4.0->wandb) (1.17.0)\n",
            "Requirement already satisfied: gitdb<5,>=4.0.1 in /usr/local/lib/python3.11/dist-packages (from gitpython!=3.1.29,>=1.0.0->wandb) (4.0.12)\n",
            "Requirement already satisfied: annotated-types>=0.6.0 in /usr/local/lib/python3.11/dist-packages (from pydantic<3->wandb) (0.7.0)\n",
            "Requirement already satisfied: pydantic-core==2.33.2 in /usr/local/lib/python3.11/dist-packages (from pydantic<3->wandb) (2.33.2)\n",
            "Requirement already satisfied: typing-inspection>=0.4.0 in /usr/local/lib/python3.11/dist-packages (from pydantic<3->wandb) (0.4.1)\n",
            "Requirement already satisfied: charset-normalizer<4,>=2 in /usr/local/lib/python3.11/dist-packages (from requests<3,>=2.0.0->wandb) (3.4.2)\n",
            "Requirement already satisfied: idna<4,>=2.5 in /usr/local/lib/python3.11/dist-packages (from requests<3,>=2.0.0->wandb) (3.10)\n",
            "Requirement already satisfied: urllib3<3,>=1.21.1 in /usr/local/lib/python3.11/dist-packages (from requests<3,>=2.0.0->wandb) (2.4.0)\n",
            "Requirement already satisfied: certifi>=2017.4.17 in /usr/local/lib/python3.11/dist-packages (from requests<3,>=2.0.0->wandb) (2025.4.26)\n",
            "Requirement already satisfied: smmap<6,>=3.0.1 in /usr/local/lib/python3.11/dist-packages (from gitdb<5,>=4.0.1->gitpython!=3.1.29,>=1.0.0->wandb) (5.0.2)\n",
            "Requirement already satisfied: kaggle in /usr/local/lib/python3.11/dist-packages (1.7.4.5)\n",
            "Requirement already satisfied: bleach in /usr/local/lib/python3.11/dist-packages (from kaggle) (6.2.0)\n",
            "Requirement already satisfied: certifi>=14.05.14 in /usr/local/lib/python3.11/dist-packages (from kaggle) (2025.4.26)\n",
            "Requirement already satisfied: charset-normalizer in /usr/local/lib/python3.11/dist-packages (from kaggle) (3.4.2)\n",
            "Requirement already satisfied: idna in /usr/local/lib/python3.11/dist-packages (from kaggle) (3.10)\n",
            "Requirement already satisfied: protobuf in /usr/local/lib/python3.11/dist-packages (from kaggle) (5.29.5)\n",
            "Requirement already satisfied: python-dateutil>=2.5.3 in /usr/local/lib/python3.11/dist-packages (from kaggle) (2.9.0.post0)\n",
            "Requirement already satisfied: python-slugify in /usr/local/lib/python3.11/dist-packages (from kaggle) (8.0.4)\n",
            "Requirement already satisfied: requests in /usr/local/lib/python3.11/dist-packages (from kaggle) (2.32.3)\n",
            "Requirement already satisfied: setuptools>=21.0.0 in /usr/local/lib/python3.11/dist-packages (from kaggle) (75.2.0)\n",
            "Requirement already satisfied: six>=1.10 in /usr/local/lib/python3.11/dist-packages (from kaggle) (1.17.0)\n",
            "Requirement already satisfied: text-unidecode in /usr/local/lib/python3.11/dist-packages (from kaggle) (1.3)\n",
            "Requirement already satisfied: tqdm in /usr/local/lib/python3.11/dist-packages (from kaggle) (4.67.1)\n",
            "Requirement already satisfied: urllib3>=1.15.1 in /usr/local/lib/python3.11/dist-packages (from kaggle) (2.4.0)\n",
            "Requirement already satisfied: webencodings in /usr/local/lib/python3.11/dist-packages (from kaggle) (0.5.1)\n"
          ]
        }
      ]
    },
    {
      "cell_type": "code",
      "execution_count": 2,
      "metadata": {
        "colab": {
          "base_uri": "https://localhost:8080/",
          "height": 92
        },
        "id": "cOscSX6_FeVx",
        "outputId": "1e9ae6b9-3bc9-419c-ec35-eed97f6cce36"
      },
      "outputs": [
        {
          "output_type": "display_data",
          "data": {
            "text/plain": [
              "<IPython.core.display.HTML object>"
            ],
            "text/html": [
              "\n",
              "     <input type=\"file\" id=\"files-1d5c74ff-6639-4d70-a4bb-f856ed4bde18\" name=\"files[]\" multiple disabled\n",
              "        style=\"border:none\" />\n",
              "     <output id=\"result-1d5c74ff-6639-4d70-a4bb-f856ed4bde18\">\n",
              "      Upload widget is only available when the cell has been executed in the\n",
              "      current browser session. Please rerun this cell to enable.\n",
              "      </output>\n",
              "      <script>// Copyright 2017 Google LLC\n",
              "//\n",
              "// Licensed under the Apache License, Version 2.0 (the \"License\");\n",
              "// you may not use this file except in compliance with the License.\n",
              "// You may obtain a copy of the License at\n",
              "//\n",
              "//      http://www.apache.org/licenses/LICENSE-2.0\n",
              "//\n",
              "// Unless required by applicable law or agreed to in writing, software\n",
              "// distributed under the License is distributed on an \"AS IS\" BASIS,\n",
              "// WITHOUT WARRANTIES OR CONDITIONS OF ANY KIND, either express or implied.\n",
              "// See the License for the specific language governing permissions and\n",
              "// limitations under the License.\n",
              "\n",
              "/**\n",
              " * @fileoverview Helpers for google.colab Python module.\n",
              " */\n",
              "(function(scope) {\n",
              "function span(text, styleAttributes = {}) {\n",
              "  const element = document.createElement('span');\n",
              "  element.textContent = text;\n",
              "  for (const key of Object.keys(styleAttributes)) {\n",
              "    element.style[key] = styleAttributes[key];\n",
              "  }\n",
              "  return element;\n",
              "}\n",
              "\n",
              "// Max number of bytes which will be uploaded at a time.\n",
              "const MAX_PAYLOAD_SIZE = 100 * 1024;\n",
              "\n",
              "function _uploadFiles(inputId, outputId) {\n",
              "  const steps = uploadFilesStep(inputId, outputId);\n",
              "  const outputElement = document.getElementById(outputId);\n",
              "  // Cache steps on the outputElement to make it available for the next call\n",
              "  // to uploadFilesContinue from Python.\n",
              "  outputElement.steps = steps;\n",
              "\n",
              "  return _uploadFilesContinue(outputId);\n",
              "}\n",
              "\n",
              "// This is roughly an async generator (not supported in the browser yet),\n",
              "// where there are multiple asynchronous steps and the Python side is going\n",
              "// to poll for completion of each step.\n",
              "// This uses a Promise to block the python side on completion of each step,\n",
              "// then passes the result of the previous step as the input to the next step.\n",
              "function _uploadFilesContinue(outputId) {\n",
              "  const outputElement = document.getElementById(outputId);\n",
              "  const steps = outputElement.steps;\n",
              "\n",
              "  const next = steps.next(outputElement.lastPromiseValue);\n",
              "  return Promise.resolve(next.value.promise).then((value) => {\n",
              "    // Cache the last promise value to make it available to the next\n",
              "    // step of the generator.\n",
              "    outputElement.lastPromiseValue = value;\n",
              "    return next.value.response;\n",
              "  });\n",
              "}\n",
              "\n",
              "/**\n",
              " * Generator function which is called between each async step of the upload\n",
              " * process.\n",
              " * @param {string} inputId Element ID of the input file picker element.\n",
              " * @param {string} outputId Element ID of the output display.\n",
              " * @return {!Iterable<!Object>} Iterable of next steps.\n",
              " */\n",
              "function* uploadFilesStep(inputId, outputId) {\n",
              "  const inputElement = document.getElementById(inputId);\n",
              "  inputElement.disabled = false;\n",
              "\n",
              "  const outputElement = document.getElementById(outputId);\n",
              "  outputElement.innerHTML = '';\n",
              "\n",
              "  const pickedPromise = new Promise((resolve) => {\n",
              "    inputElement.addEventListener('change', (e) => {\n",
              "      resolve(e.target.files);\n",
              "    });\n",
              "  });\n",
              "\n",
              "  const cancel = document.createElement('button');\n",
              "  inputElement.parentElement.appendChild(cancel);\n",
              "  cancel.textContent = 'Cancel upload';\n",
              "  const cancelPromise = new Promise((resolve) => {\n",
              "    cancel.onclick = () => {\n",
              "      resolve(null);\n",
              "    };\n",
              "  });\n",
              "\n",
              "  // Wait for the user to pick the files.\n",
              "  const files = yield {\n",
              "    promise: Promise.race([pickedPromise, cancelPromise]),\n",
              "    response: {\n",
              "      action: 'starting',\n",
              "    }\n",
              "  };\n",
              "\n",
              "  cancel.remove();\n",
              "\n",
              "  // Disable the input element since further picks are not allowed.\n",
              "  inputElement.disabled = true;\n",
              "\n",
              "  if (!files) {\n",
              "    return {\n",
              "      response: {\n",
              "        action: 'complete',\n",
              "      }\n",
              "    };\n",
              "  }\n",
              "\n",
              "  for (const file of files) {\n",
              "    const li = document.createElement('li');\n",
              "    li.append(span(file.name, {fontWeight: 'bold'}));\n",
              "    li.append(span(\n",
              "        `(${file.type || 'n/a'}) - ${file.size} bytes, ` +\n",
              "        `last modified: ${\n",
              "            file.lastModifiedDate ? file.lastModifiedDate.toLocaleDateString() :\n",
              "                                    'n/a'} - `));\n",
              "    const percent = span('0% done');\n",
              "    li.appendChild(percent);\n",
              "\n",
              "    outputElement.appendChild(li);\n",
              "\n",
              "    const fileDataPromise = new Promise((resolve) => {\n",
              "      const reader = new FileReader();\n",
              "      reader.onload = (e) => {\n",
              "        resolve(e.target.result);\n",
              "      };\n",
              "      reader.readAsArrayBuffer(file);\n",
              "    });\n",
              "    // Wait for the data to be ready.\n",
              "    let fileData = yield {\n",
              "      promise: fileDataPromise,\n",
              "      response: {\n",
              "        action: 'continue',\n",
              "      }\n",
              "    };\n",
              "\n",
              "    // Use a chunked sending to avoid message size limits. See b/62115660.\n",
              "    let position = 0;\n",
              "    do {\n",
              "      const length = Math.min(fileData.byteLength - position, MAX_PAYLOAD_SIZE);\n",
              "      const chunk = new Uint8Array(fileData, position, length);\n",
              "      position += length;\n",
              "\n",
              "      const base64 = btoa(String.fromCharCode.apply(null, chunk));\n",
              "      yield {\n",
              "        response: {\n",
              "          action: 'append',\n",
              "          file: file.name,\n",
              "          data: base64,\n",
              "        },\n",
              "      };\n",
              "\n",
              "      let percentDone = fileData.byteLength === 0 ?\n",
              "          100 :\n",
              "          Math.round((position / fileData.byteLength) * 100);\n",
              "      percent.textContent = `${percentDone}% done`;\n",
              "\n",
              "    } while (position < fileData.byteLength);\n",
              "  }\n",
              "\n",
              "  // All done.\n",
              "  yield {\n",
              "    response: {\n",
              "      action: 'complete',\n",
              "    }\n",
              "  };\n",
              "}\n",
              "\n",
              "scope.google = scope.google || {};\n",
              "scope.google.colab = scope.google.colab || {};\n",
              "scope.google.colab._files = {\n",
              "  _uploadFiles,\n",
              "  _uploadFilesContinue,\n",
              "};\n",
              "})(self);\n",
              "</script> "
            ]
          },
          "metadata": {}
        },
        {
          "output_type": "stream",
          "name": "stdout",
          "text": [
            "Saving kaggle.json to kaggle.json\n"
          ]
        },
        {
          "output_type": "execute_result",
          "data": {
            "text/plain": [
              "{'kaggle.json': b'{\"username\":\"ditogogua\",\"key\":\"62967aa3b26215f60cc8e8dd4363b3f2\"}'}"
            ]
          },
          "metadata": {},
          "execution_count": 2
        }
      ],
      "source": [
        "from google.colab import files\n",
        "files.upload()"
      ]
    },
    {
      "cell_type": "code",
      "source": [
        "!pip install -q kaggle"
      ],
      "metadata": {
        "id": "ijJeW-YHFnTa"
      },
      "execution_count": 3,
      "outputs": []
    },
    {
      "cell_type": "code",
      "source": [
        "!mkdir -p ~/.kaggle\n",
        "!cp kaggle.json ~/.kaggle/\n",
        "!chmod 600 ~/.kaggle/kaggle.json"
      ],
      "metadata": {
        "id": "pPCZH0bmGR7G"
      },
      "execution_count": 4,
      "outputs": []
    },
    {
      "cell_type": "code",
      "source": [
        "!kaggle competitions download -c challenges-in-representation-learning-facial-expression-recognition-challenge"
      ],
      "metadata": {
        "colab": {
          "base_uri": "https://localhost:8080/"
        },
        "id": "jMap-ctQGYT5",
        "outputId": "13fb7870-e870-4084-df42-646603e3396a"
      },
      "execution_count": 5,
      "outputs": [
        {
          "output_type": "stream",
          "name": "stdout",
          "text": [
            "Downloading challenges-in-representation-learning-facial-expression-recognition-challenge.zip to /content\n",
            " 93% 265M/285M [00:00<00:00, 558MB/s]\n",
            "100% 285M/285M [00:02<00:00, 110MB/s]\n"
          ]
        }
      ]
    },
    {
      "cell_type": "code",
      "source": [
        "!unzip -q challenges-in-representation-learning-facial-expression-recognition-challenge.zip -d data/"
      ],
      "metadata": {
        "id": "ciPDCMizGf0b"
      },
      "execution_count": 6,
      "outputs": []
    },
    {
      "cell_type": "code",
      "source": [
        "!ls data"
      ],
      "metadata": {
        "colab": {
          "base_uri": "https://localhost:8080/"
        },
        "id": "5jGhnPkFGl2_",
        "outputId": "2781e75d-840c-4b51-edeb-5dff3d8768c4"
      },
      "execution_count": 7,
      "outputs": [
        {
          "output_type": "stream",
          "name": "stdout",
          "text": [
            "example_submission.csv\tfer2013.tar.gz\ticml_face_data.csv  test.csv  train.csv\n"
          ]
        }
      ]
    },
    {
      "cell_type": "code",
      "source": [
        "!pip install -q wandb"
      ],
      "metadata": {
        "id": "V8N4YZC9GpWh"
      },
      "execution_count": 8,
      "outputs": []
    },
    {
      "cell_type": "code",
      "source": [
        "import wandb\n",
        "wandb.login()"
      ],
      "metadata": {
        "colab": {
          "base_uri": "https://localhost:8080/",
          "height": 215
        },
        "id": "QPkp2koBGrnQ",
        "outputId": "0840c72f-bccb-42e6-ce24-37e24e9a894f"
      },
      "execution_count": 9,
      "outputs": [
        {
          "output_type": "display_data",
          "data": {
            "text/plain": [
              "<IPython.core.display.Javascript object>"
            ],
            "application/javascript": [
              "\n",
              "        window._wandbApiKey = new Promise((resolve, reject) => {\n",
              "            function loadScript(url) {\n",
              "            return new Promise(function(resolve, reject) {\n",
              "                let newScript = document.createElement(\"script\");\n",
              "                newScript.onerror = reject;\n",
              "                newScript.onload = resolve;\n",
              "                document.body.appendChild(newScript);\n",
              "                newScript.src = url;\n",
              "            });\n",
              "            }\n",
              "            loadScript(\"https://cdn.jsdelivr.net/npm/postmate/build/postmate.min.js\").then(() => {\n",
              "            const iframe = document.createElement('iframe')\n",
              "            iframe.style.cssText = \"width:0;height:0;border:none\"\n",
              "            document.body.appendChild(iframe)\n",
              "            const handshake = new Postmate({\n",
              "                container: iframe,\n",
              "                url: 'https://wandb.ai/authorize'\n",
              "            });\n",
              "            const timeout = setTimeout(() => reject(\"Couldn't auto authenticate\"), 5000)\n",
              "            handshake.then(function(child) {\n",
              "                child.on('authorize', data => {\n",
              "                    clearTimeout(timeout)\n",
              "                    resolve(data)\n",
              "                });\n",
              "            });\n",
              "            })\n",
              "        });\n",
              "    "
            ]
          },
          "metadata": {}
        },
        {
          "output_type": "stream",
          "name": "stderr",
          "text": [
            "\u001b[34m\u001b[1mwandb\u001b[0m: Logging into wandb.ai. (Learn how to deploy a W&B server locally: https://wandb.me/wandb-server)\n",
            "\u001b[34m\u001b[1mwandb\u001b[0m: You can find your API key in your browser here: https://wandb.ai/authorize\n",
            "wandb: Paste an API key from your profile and hit enter:"
          ]
        },
        {
          "name": "stdout",
          "output_type": "stream",
          "text": [
            " ··········\n"
          ]
        },
        {
          "output_type": "stream",
          "name": "stderr",
          "text": [
            "\u001b[34m\u001b[1mwandb\u001b[0m: \u001b[33mWARNING\u001b[0m If you're specifying your api key in code, ensure this code is not shared publicly.\n",
            "\u001b[34m\u001b[1mwandb\u001b[0m: \u001b[33mWARNING\u001b[0m Consider setting the WANDB_API_KEY environment variable, or running `wandb login` from the command line.\n",
            "\u001b[34m\u001b[1mwandb\u001b[0m: No netrc file found, creating one.\n",
            "\u001b[34m\u001b[1mwandb\u001b[0m: Appending key for api.wandb.ai to your netrc file: /root/.netrc\n",
            "\u001b[34m\u001b[1mwandb\u001b[0m: Currently logged in as: \u001b[33mdgogu22\u001b[0m (\u001b[33mdgogu22-free-university-of-tbilisi-\u001b[0m) to \u001b[32mhttps://api.wandb.ai\u001b[0m. Use \u001b[1m`wandb login --relogin`\u001b[0m to force relogin\n"
          ]
        },
        {
          "output_type": "execute_result",
          "data": {
            "text/plain": [
              "True"
            ]
          },
          "metadata": {},
          "execution_count": 9
        }
      ]
    },
    {
      "cell_type": "code",
      "source": [
        "import torch\n",
        "import torch.nn as nn\n",
        "import torch.optim as optim\n",
        "import torchvision\n",
        "import torchvision.transforms as transforms\n",
        "from torch.utils.data import DataLoader, Dataset\n",
        "import pandas as pd\n",
        "import numpy as np\n",
        "import wandb\n"
      ],
      "metadata": {
        "id": "bqMkqm30Gv9a"
      },
      "execution_count": 10,
      "outputs": []
    },
    {
      "cell_type": "code",
      "source": [
        "train_df_t = pd.read_csv('/content/data/icml_face_data.csv')"
      ],
      "metadata": {
        "id": "wLM2ayOLOdBa"
      },
      "execution_count": 11,
      "outputs": []
    },
    {
      "cell_type": "code",
      "source": [
        "test_df = pd.read_csv('/content/data/test.csv')"
      ],
      "metadata": {
        "id": "kDthFJ75PcC_"
      },
      "execution_count": 12,
      "outputs": []
    },
    {
      "cell_type": "code",
      "source": [
        "test_df.head()"
      ],
      "metadata": {
        "colab": {
          "base_uri": "https://localhost:8080/",
          "height": 206
        },
        "id": "LvUkQE5hPnfu",
        "outputId": "b5450b71-e932-4b92-fc9f-dfdfe1555169"
      },
      "execution_count": 13,
      "outputs": [
        {
          "output_type": "execute_result",
          "data": {
            "text/plain": [
              "                                              pixels\n",
              "0  254 254 254 254 254 249 255 160 2 58 53 70 77 ...\n",
              "1  156 184 198 202 204 207 210 212 213 214 215 21...\n",
              "2  69 118 61 60 96 121 103 87 103 88 70 90 115 12...\n",
              "3  205 203 236 157 83 158 120 116 94 86 155 180 2...\n",
              "4  87 79 74 66 74 96 77 80 80 84 83 89 102 91 84 ..."
            ],
            "text/html": [
              "\n",
              "  <div id=\"df-9340e36b-ec65-472c-b026-a7ea9328d601\" class=\"colab-df-container\">\n",
              "    <div>\n",
              "<style scoped>\n",
              "    .dataframe tbody tr th:only-of-type {\n",
              "        vertical-align: middle;\n",
              "    }\n",
              "\n",
              "    .dataframe tbody tr th {\n",
              "        vertical-align: top;\n",
              "    }\n",
              "\n",
              "    .dataframe thead th {\n",
              "        text-align: right;\n",
              "    }\n",
              "</style>\n",
              "<table border=\"1\" class=\"dataframe\">\n",
              "  <thead>\n",
              "    <tr style=\"text-align: right;\">\n",
              "      <th></th>\n",
              "      <th>pixels</th>\n",
              "    </tr>\n",
              "  </thead>\n",
              "  <tbody>\n",
              "    <tr>\n",
              "      <th>0</th>\n",
              "      <td>254 254 254 254 254 249 255 160 2 58 53 70 77 ...</td>\n",
              "    </tr>\n",
              "    <tr>\n",
              "      <th>1</th>\n",
              "      <td>156 184 198 202 204 207 210 212 213 214 215 21...</td>\n",
              "    </tr>\n",
              "    <tr>\n",
              "      <th>2</th>\n",
              "      <td>69 118 61 60 96 121 103 87 103 88 70 90 115 12...</td>\n",
              "    </tr>\n",
              "    <tr>\n",
              "      <th>3</th>\n",
              "      <td>205 203 236 157 83 158 120 116 94 86 155 180 2...</td>\n",
              "    </tr>\n",
              "    <tr>\n",
              "      <th>4</th>\n",
              "      <td>87 79 74 66 74 96 77 80 80 84 83 89 102 91 84 ...</td>\n",
              "    </tr>\n",
              "  </tbody>\n",
              "</table>\n",
              "</div>\n",
              "    <div class=\"colab-df-buttons\">\n",
              "\n",
              "  <div class=\"colab-df-container\">\n",
              "    <button class=\"colab-df-convert\" onclick=\"convertToInteractive('df-9340e36b-ec65-472c-b026-a7ea9328d601')\"\n",
              "            title=\"Convert this dataframe to an interactive table.\"\n",
              "            style=\"display:none;\">\n",
              "\n",
              "  <svg xmlns=\"http://www.w3.org/2000/svg\" height=\"24px\" viewBox=\"0 -960 960 960\">\n",
              "    <path d=\"M120-120v-720h720v720H120Zm60-500h600v-160H180v160Zm220 220h160v-160H400v160Zm0 220h160v-160H400v160ZM180-400h160v-160H180v160Zm440 0h160v-160H620v160ZM180-180h160v-160H180v160Zm440 0h160v-160H620v160Z\"/>\n",
              "  </svg>\n",
              "    </button>\n",
              "\n",
              "  <style>\n",
              "    .colab-df-container {\n",
              "      display:flex;\n",
              "      gap: 12px;\n",
              "    }\n",
              "\n",
              "    .colab-df-convert {\n",
              "      background-color: #E8F0FE;\n",
              "      border: none;\n",
              "      border-radius: 50%;\n",
              "      cursor: pointer;\n",
              "      display: none;\n",
              "      fill: #1967D2;\n",
              "      height: 32px;\n",
              "      padding: 0 0 0 0;\n",
              "      width: 32px;\n",
              "    }\n",
              "\n",
              "    .colab-df-convert:hover {\n",
              "      background-color: #E2EBFA;\n",
              "      box-shadow: 0px 1px 2px rgba(60, 64, 67, 0.3), 0px 1px 3px 1px rgba(60, 64, 67, 0.15);\n",
              "      fill: #174EA6;\n",
              "    }\n",
              "\n",
              "    .colab-df-buttons div {\n",
              "      margin-bottom: 4px;\n",
              "    }\n",
              "\n",
              "    [theme=dark] .colab-df-convert {\n",
              "      background-color: #3B4455;\n",
              "      fill: #D2E3FC;\n",
              "    }\n",
              "\n",
              "    [theme=dark] .colab-df-convert:hover {\n",
              "      background-color: #434B5C;\n",
              "      box-shadow: 0px 1px 3px 1px rgba(0, 0, 0, 0.15);\n",
              "      filter: drop-shadow(0px 1px 2px rgba(0, 0, 0, 0.3));\n",
              "      fill: #FFFFFF;\n",
              "    }\n",
              "  </style>\n",
              "\n",
              "    <script>\n",
              "      const buttonEl =\n",
              "        document.querySelector('#df-9340e36b-ec65-472c-b026-a7ea9328d601 button.colab-df-convert');\n",
              "      buttonEl.style.display =\n",
              "        google.colab.kernel.accessAllowed ? 'block' : 'none';\n",
              "\n",
              "      async function convertToInteractive(key) {\n",
              "        const element = document.querySelector('#df-9340e36b-ec65-472c-b026-a7ea9328d601');\n",
              "        const dataTable =\n",
              "          await google.colab.kernel.invokeFunction('convertToInteractive',\n",
              "                                                    [key], {});\n",
              "        if (!dataTable) return;\n",
              "\n",
              "        const docLinkHtml = 'Like what you see? Visit the ' +\n",
              "          '<a target=\"_blank\" href=https://colab.research.google.com/notebooks/data_table.ipynb>data table notebook</a>'\n",
              "          + ' to learn more about interactive tables.';\n",
              "        element.innerHTML = '';\n",
              "        dataTable['output_type'] = 'display_data';\n",
              "        await google.colab.output.renderOutput(dataTable, element);\n",
              "        const docLink = document.createElement('div');\n",
              "        docLink.innerHTML = docLinkHtml;\n",
              "        element.appendChild(docLink);\n",
              "      }\n",
              "    </script>\n",
              "  </div>\n",
              "\n",
              "\n",
              "    <div id=\"df-a4797666-1682-4017-8500-2de457585797\">\n",
              "      <button class=\"colab-df-quickchart\" onclick=\"quickchart('df-a4797666-1682-4017-8500-2de457585797')\"\n",
              "                title=\"Suggest charts\"\n",
              "                style=\"display:none;\">\n",
              "\n",
              "<svg xmlns=\"http://www.w3.org/2000/svg\" height=\"24px\"viewBox=\"0 0 24 24\"\n",
              "     width=\"24px\">\n",
              "    <g>\n",
              "        <path d=\"M19 3H5c-1.1 0-2 .9-2 2v14c0 1.1.9 2 2 2h14c1.1 0 2-.9 2-2V5c0-1.1-.9-2-2-2zM9 17H7v-7h2v7zm4 0h-2V7h2v10zm4 0h-2v-4h2v4z\"/>\n",
              "    </g>\n",
              "</svg>\n",
              "      </button>\n",
              "\n",
              "<style>\n",
              "  .colab-df-quickchart {\n",
              "      --bg-color: #E8F0FE;\n",
              "      --fill-color: #1967D2;\n",
              "      --hover-bg-color: #E2EBFA;\n",
              "      --hover-fill-color: #174EA6;\n",
              "      --disabled-fill-color: #AAA;\n",
              "      --disabled-bg-color: #DDD;\n",
              "  }\n",
              "\n",
              "  [theme=dark] .colab-df-quickchart {\n",
              "      --bg-color: #3B4455;\n",
              "      --fill-color: #D2E3FC;\n",
              "      --hover-bg-color: #434B5C;\n",
              "      --hover-fill-color: #FFFFFF;\n",
              "      --disabled-bg-color: #3B4455;\n",
              "      --disabled-fill-color: #666;\n",
              "  }\n",
              "\n",
              "  .colab-df-quickchart {\n",
              "    background-color: var(--bg-color);\n",
              "    border: none;\n",
              "    border-radius: 50%;\n",
              "    cursor: pointer;\n",
              "    display: none;\n",
              "    fill: var(--fill-color);\n",
              "    height: 32px;\n",
              "    padding: 0;\n",
              "    width: 32px;\n",
              "  }\n",
              "\n",
              "  .colab-df-quickchart:hover {\n",
              "    background-color: var(--hover-bg-color);\n",
              "    box-shadow: 0 1px 2px rgba(60, 64, 67, 0.3), 0 1px 3px 1px rgba(60, 64, 67, 0.15);\n",
              "    fill: var(--button-hover-fill-color);\n",
              "  }\n",
              "\n",
              "  .colab-df-quickchart-complete:disabled,\n",
              "  .colab-df-quickchart-complete:disabled:hover {\n",
              "    background-color: var(--disabled-bg-color);\n",
              "    fill: var(--disabled-fill-color);\n",
              "    box-shadow: none;\n",
              "  }\n",
              "\n",
              "  .colab-df-spinner {\n",
              "    border: 2px solid var(--fill-color);\n",
              "    border-color: transparent;\n",
              "    border-bottom-color: var(--fill-color);\n",
              "    animation:\n",
              "      spin 1s steps(1) infinite;\n",
              "  }\n",
              "\n",
              "  @keyframes spin {\n",
              "    0% {\n",
              "      border-color: transparent;\n",
              "      border-bottom-color: var(--fill-color);\n",
              "      border-left-color: var(--fill-color);\n",
              "    }\n",
              "    20% {\n",
              "      border-color: transparent;\n",
              "      border-left-color: var(--fill-color);\n",
              "      border-top-color: var(--fill-color);\n",
              "    }\n",
              "    30% {\n",
              "      border-color: transparent;\n",
              "      border-left-color: var(--fill-color);\n",
              "      border-top-color: var(--fill-color);\n",
              "      border-right-color: var(--fill-color);\n",
              "    }\n",
              "    40% {\n",
              "      border-color: transparent;\n",
              "      border-right-color: var(--fill-color);\n",
              "      border-top-color: var(--fill-color);\n",
              "    }\n",
              "    60% {\n",
              "      border-color: transparent;\n",
              "      border-right-color: var(--fill-color);\n",
              "    }\n",
              "    80% {\n",
              "      border-color: transparent;\n",
              "      border-right-color: var(--fill-color);\n",
              "      border-bottom-color: var(--fill-color);\n",
              "    }\n",
              "    90% {\n",
              "      border-color: transparent;\n",
              "      border-bottom-color: var(--fill-color);\n",
              "    }\n",
              "  }\n",
              "</style>\n",
              "\n",
              "      <script>\n",
              "        async function quickchart(key) {\n",
              "          const quickchartButtonEl =\n",
              "            document.querySelector('#' + key + ' button');\n",
              "          quickchartButtonEl.disabled = true;  // To prevent multiple clicks.\n",
              "          quickchartButtonEl.classList.add('colab-df-spinner');\n",
              "          try {\n",
              "            const charts = await google.colab.kernel.invokeFunction(\n",
              "                'suggestCharts', [key], {});\n",
              "          } catch (error) {\n",
              "            console.error('Error during call to suggestCharts:', error);\n",
              "          }\n",
              "          quickchartButtonEl.classList.remove('colab-df-spinner');\n",
              "          quickchartButtonEl.classList.add('colab-df-quickchart-complete');\n",
              "        }\n",
              "        (() => {\n",
              "          let quickchartButtonEl =\n",
              "            document.querySelector('#df-a4797666-1682-4017-8500-2de457585797 button');\n",
              "          quickchartButtonEl.style.display =\n",
              "            google.colab.kernel.accessAllowed ? 'block' : 'none';\n",
              "        })();\n",
              "      </script>\n",
              "    </div>\n",
              "\n",
              "    </div>\n",
              "  </div>\n"
            ],
            "application/vnd.google.colaboratory.intrinsic+json": {
              "type": "dataframe",
              "variable_name": "test_df",
              "summary": "{\n  \"name\": \"test_df\",\n  \"rows\": 7178,\n  \"fields\": [\n    {\n      \"column\": \"pixels\",\n      \"properties\": {\n        \"dtype\": \"string\",\n        \"num_unique_values\": 7092,\n        \"samples\": [\n          \"21 12 14 13 12 11 10 10 5 0 57 126 138 131 150 151 144 135 126 125 117 121 130 122 117 131 135 138 127 121 114 114 110 92 84 104 102 64 17 8 13 12 12 12 14 14 12 14 21 12 14 13 13 11 10 6 9 55 126 132 125 121 134 148 133 123 122 122 121 116 124 120 115 122 132 132 119 113 106 116 103 102 80 77 88 90 55 6 11 11 12 12 13 13 13 15 22 11 12 11 9 10 7 6 28 94 115 107 116 132 138 135 132 126 126 126 123 116 115 120 109 111 123 128 123 114 108 114 107 94 98 70 67 83 75 30 6 12 11 13 12 10 13 14 23 10 12 11 11 7 10 22 48 57 84 118 134 143 141 135 135 132 130 124 121 113 109 117 111 116 132 137 135 132 107 98 109 85 75 77 53 62 88 59 24 6 12 13 12 11 12 14 22 10 14 11 10 7 29 44 52 65 133 142 140 144 143 141 137 133 128 121 114 104 101 102 103 113 135 149 143 139 133 113 111 105 64 62 76 44 81 90 49 20 10 13 13 13 13 14 21 11 13 12 9 7 38 46 44 117 158 148 146 141 140 136 131 131 126 121 110 96 98 97 103 121 134 146 146 136 147 132 128 109 75 46 67 78 43 104 65 46 15 13 14 14 14 14 21 11 13 12 15 27 26 1 64 158 149 149 144 136 135 134 130 125 120 119 110 105 104 100 104 118 129 141 133 114 118 126 116 104 92 68 36 72 48 63 82 47 30 10 16 15 16 17 23 12 15 12 26 27 12 23 134 152 150 152 145 135 132 131 132 127 123 121 115 109 112 113 115 127 135 140 136 120 113 117 117 95 81 71 47 39 49 35 80 44 37 16 15 16 17 18 25 13 16 13 26 12 10 80 159 146 152 154 144 143 137 138 140 140 133 124 121 106 115 128 130 143 144 140 139 123 118 123 124 105 83 76 65 41 40 32 71 55 37 24 14 17 18 19 26 15 14 13 21 3 10 130 166 164 171 163 151 164 153 150 148 142 133 121 122 115 118 126 133 146 152 142 143 135 122 123 122 108 94 86 84 71 34 26 55 62 45 31 15 17 18 19 27 16 17 18 21 0 38 158 163 168 162 160 153 148 152 148 143 138 123 116 113 120 119 126 142 152 139 133 133 123 124 128 117 106 88 85 83 89 62 39 59 57 49 43 17 18 18 20 27 18 14 29 21 0 63 168 165 171 168 153 153 151 143 140 134 127 113 111 113 127 126 140 158 146 145 120 109 114 97 95 93 100 87 74 69 85 111 92 81 65 55 62 24 20 21 22 29 19 17 35 14 0 87 174 167 168 162 159 165 156 145 139 135 126 115 112 125 123 111 133 142 143 129 125 104 103 91 86 71 76 86 86 69 69 90 138 122 92 71 66 28 19 23 24 29 18 21 17 8 3 124 177 170 168 166 171 164 156 151 152 148 139 128 111 116 98 93 108 113 122 116 122 114 95 76 70 53 57 57 51 63 53 47 61 110 124 86 73 33 21 25 26 30 20 23 17 7 14 151 176 173 174 161 149 141 149 144 144 139 138 132 108 89 82 92 115 125 118 123 95 58 43 27 36 38 33 41 47 17 15 20 28 26 79 87 70 41 21 25 26 33 23 25 21 5 32 166 165 159 157 140 127 111 105 99 91 86 94 106 93 71 78 108 114 115 109 107 56 43 64 66 69 73 51 64 31 37 68 44 47 59 40 73 67 48 24 25 26 36 26 24 22 5 49 166 145 146 148 125 112 78 68 97 112 75 76 70 53 39 43 79 89 114 107 115 109 130 134 119 97 83 68 57 44 88 111 62 52 62 38 61 74 48 24 27 29 38 26 26 25 4 52 115 85 121 151 135 107 64 29 92 145 129 107 44 30 28 74 86 120 135 126 105 105 146 136 132 93 57 57 38 53 100 104 57 43 66 37 56 86 66 29 26 29 36 25 24 16 21 61 78 53 54 117 151 96 31 56 144 145 122 75 61 71 75 79 92 120 128 122 87 71 136 156 109 72 34 51 40 19 20 44 56 58 56 40 63 85 74 29 21 27 41 27 20 67 71 64 144 133 104 118 132 106 65 45 62 18 22 51 38 71 84 48 123 145 124 110 77 57 111 138 108 56 47 78 62 40 48 32 53 66 30 33 57 82 81 32 25 29 40 21 40 164 52 0 111 120 53 111 147 86 72 94 127 78 61 60 75 91 95 95 160 160 116 85 54 50 58 79 85 51 65 89 94 39 76 72 67 53 20 39 48 71 80 32 25 28 38 16 77 171 82 10 32 14 41 160 158 86 56 93 139 122 103 103 102 107 117 125 116 111 83 58 52 51 56 55 60 64 61 68 67 81 95 74 69 36 24 43 46 71 72 24 25 27 41 22 72 149 108 13 14 66 112 169 129 94 93 99 143 143 127 133 101 134 142 132 96 65 51 49 51 61 62 60 64 66 55 55 49 81 79 41 35 21 30 45 54 94 57 21 27 28 42 29 17 116 143 44 0 68 151 143 114 118 116 111 166 168 147 132 142 158 120 97 63 48 47 48 48 59 61 61 59 61 59 48 66 71 59 63 32 13 23 34 74 90 39 22 28 27 45 32 22 51 161 126 13 71 183 146 120 123 121 83 125 176 141 146 152 106 75 66 47 40 49 51 47 52 59 63 67 60 52 51 82 81 78 52 15 18 29 48 85 79 20 23 27 27 44 30 30 12 79 193 129 110 188 148 101 126 136 110 71 129 164 147 133 114 97 72 53 53 54 50 50 56 59 56 60 57 57 55 90 100 61 19 17 31 45 60 95 57 18 23 26 27 42 30 31 26 5 79 166 152 185 142 107 146 120 81 51 68 167 170 165 154 131 95 74 91 74 53 51 55 59 61 63 55 54 53 65 56 28 23 24 46 62 74 94 32 11 23 26 27 41 31 32 28 21 6 8 119 157 86 63 69 44 31 22 43 129 146 148 140 113 77 76 113 89 52 49 52 57 68 66 57 47 49 59 55 36 41 50 59 58 53 79 132 21 18 25 26 43 31 33 29 25 22 3 42 109 44 22 6 0 9 24 77 133 143 145 132 110 70 69 101 88 52 46 55 63 73 66 52 46 47 63 59 48 62 57 57 42 42 148 213 57 11 25 24 43 30 32 28 26 21 16 0 66 136 97 33 58 93 119 132 133 132 151 136 115 84 79 95 84 55 47 49 60 71 65 55 46 50 65 71 62 60 56 42 31 127 195 172 27 16 27 23 44 29 31 32 27 23 18 2 37 177 187 165 166 175 175 148 129 133 149 140 124 108 86 79 75 61 49 44 52 64 63 53 42 47 53 60 62 56 41 32 122 171 180 89 2 22 28 29 43 32 31 31 28 26 20 4 36 193 199 191 181 157 156 140 104 134 125 141 144 125 91 80 77 59 49 43 47 58 67 50 40 39 41 47 57 38 36 120 160 161 130 9 10 22 25 29 44 33 31 34 29 25 21 1 58 199 168 156 89 78 81 66 33 69 98 134 161 138 94 81 75 52 44 39 46 53 63 50 36 30 35 42 36 40 130 155 141 146 54 0 16 20 24 28 43 33 33 32 31 25 21 10 13 143 137 57 27 27 22 21 22 22 43 111 163 134 96 78 67 49 40 42 47 55 64 46 33 28 30 28 29 134 155 137 143 98 0 11 14 19 22 25 43 32 32 30 28 26 19 17 2 25 83 20 29 49 93 129 97 70 95 92 133 123 86 67 57 42 39 46 50 52 58 38 26 26 25 12 112 158 137 137 134 35 1 14 16 20 21 25 44 33 33 32 29 25 22 19 16 0 55 140 161 171 152 92 42 68 114 79 111 118 78 63 52 44 42 46 51 48 48 34 26 22 6 83 160 140 139 148 70 0 13 13 18 21 22 26 42 33 33 31 29 27 24 21 17 4 27 163 122 70 44 12 28 91 100 92 147 146 110 72 46 42 43 46 45 46 39 28 27 7 64 156 142 145 152 123 11 10 18 20 23 26 28 22 42 33 34 31 28 26 23 24 19 10 4 93 100 17 46 84 99 124 133 151 162 149 132 94 40 35 39 41 42 39 33 27 12 44 150 147 148 143 138 44 8 20 25 30 34 44 32 26 43 31 33 31 28 25 23 23 21 14 6 16 107 137 164 188 177 159 158 159 148 108 74 51 38 35 39 42 38 31 26 20 22 126 144 136 134 144 87 6 23 28 36 41 51 47 28 52 40 30 32 31 27 24 23 21 20 15 13 3 23 146 190 177 165 164 152 147 122 64 31 40 41 40 40 40 36 29 26 10 79 143 131 136 140 138 36 21 29 38 45 53 62 28 49 62 39 32 31 30 27 23 23 19 19 16 12 13 0 86 183 164 152 137 138 133 76 40 43 40 42 41 42 42 38 32 23 36 122 129 134 137 155 83 16 32 34 45 50 62 47 30 64 65 40 31 29 29 26 23 24 22 20 16 15 11 0 59 166 132 111 116 101 78 48 61 50 42 43 42 43 45 41 38 24 86 134 130 132 140 133 37 32 36 41 49 62 72 22 51 66 65 41 30 29 28 26 24 23 24 21 17 16 14 6 18 136 104 59 84 59 63 73 55 38 45 47 46 44 48 51 25 46 128 131 127 123 145 81 26 38 45 52 63 71 53 31 71 67 68 40 28 29 29 28 27 25 21 19 19 16 13 10 2 32 56 54 59 65 66 56 40 38 49 49 50 52 56 39 23 102 136 127 127 142 130 38 39 46 53 50 43 35 23 44 73 71 70 39 29 30 30 28 27 24 21 21 18 16 14 11 10 6 5 11 9 30 60 55 46 42 55 59 57 59 48 16 75 132 128 136 148 174 80 36 44 32 28 24 18 18 18 21 55 76 73 40 29 30 30 29 27 24 23 21 18 17 16 15 12 15 14 11 13 9 33 67 68 58 67 71 67 56 14 56 127 121 141 165 186 160 39 35 32 29 17 13 17 18 24 18 25 70 79 38 28 30 29 28 26 24 23 21 18 20 15 15 14 15 15 15 15 17 11 21 50 79 86 81 72 21 44 118 116 126 163 179 200 96 28 42 25 30 52 35 15 18 21 27 13 49 80 37 27 29 31 27 26 25 22 21 18 19 17 15 16 16 16 16 16 16 16 11 5 20 74 102 18 24 104 115 117 152 175 194 174 44 117 103 26 30 42 34 14 16 17 24 13 37 79\",\n          \"18 15 24 21 22 28 27 27 43 75 92 98 108 123 135 147 148 145 154 167 165 167 162 150 153 166 170 172 169 166 160 151 145 136 131 123 119 119 101 60 33 29 23 27 22 13 11 10 18 24 31 26 28 24 24 36 60 86 96 101 109 125 137 143 149 151 159 167 168 167 160 163 159 161 165 162 166 165 158 149 139 130 124 114 116 119 109 73 38 28 23 24 17 19 23 19 25 20 34 27 25 26 32 49 71 90 96 105 109 120 130 141 148 153 159 160 168 166 165 162 155 154 160 161 160 158 158 150 140 128 116 112 112 112 103 78 53 32 30 21 14 14 26 28 16 13 26 19 20 21 40 65 74 91 99 108 112 118 126 143 152 157 158 160 167 166 164 163 155 156 161 159 155 155 153 146 138 125 113 108 110 109 105 90 66 37 30 23 16 7 10 22 10 16 21 21 21 30 42 70 86 91 100 105 109 113 120 139 148 153 155 166 164 162 163 160 158 158 159 155 156 153 148 141 132 120 111 107 106 104 101 94 72 51 33 22 16 4 8 21 15 25 22 20 16 40 57 75 81 91 99 103 104 112 117 128 142 151 160 163 161 161 159 154 154 157 159 157 150 142 139 135 129 127 124 118 111 104 99 97 87 69 42 20 16 5 8 20 15 23 28 23 21 47 75 74 88 96 98 100 101 107 113 123 135 147 156 158 163 163 155 147 153 157 154 155 151 143 137 134 131 124 116 110 108 104 106 92 90 78 44 20 15 7 12 18 14 14 20 16 28 60 70 82 89 90 95 100 99 99 106 122 134 144 156 162 164 162 159 152 155 157 155 154 148 145 143 141 139 127 116 111 111 107 100 91 91 81 49 18 13 10 10 13 13 9 13 14 25 57 73 88 91 90 95 102 104 108 114 125 139 150 158 167 166 165 166 163 158 157 156 154 155 149 147 148 144 131 125 125 115 105 111 101 89 83 53 17 12 10 6 5 9 10 17 17 20 59 73 82 87 92 106 93 106 118 125 140 158 165 165 165 166 166 165 163 158 156 156 156 162 161 153 158 155 132 115 102 89 75 88 102 91 79 53 14 14 11 8 5 10 14 18 14 22 58 75 77 80 102 89 66 86 110 129 150 168 171 171 168 173 173 165 162 156 155 162 165 167 161 161 146 120 96 73 58 53 61 59 75 97 78 53 14 14 12 11 8 12 14 18 14 23 57 75 78 94 76 54 62 63 63 81 98 109 109 133 160 170 178 172 164 160 161 167 167 158 149 120 86 64 46 33 49 69 77 80 69 84 82 57 16 13 12 12 12 16 9 13 10 24 58 71 80 71 53 69 86 87 71 56 55 64 91 109 129 154 165 168 163 160 162 169 164 158 132 99 83 57 63 104 130 137 127 112 97 88 83 63 19 13 11 13 15 21 6 9 14 22 57 72 76 82 106 124 141 155 153 133 104 86 100 124 135 141 158 166 161 156 156 167 164 156 126 113 103 99 121 131 125 119 110 117 108 92 82 69 27 11 10 11 15 25 8 6 11 23 61 73 81 99 119 134 137 140 142 148 148 137 126 123 131 136 150 153 154 151 149 153 151 134 111 101 115 130 137 138 139 119 98 93 91 92 85 72 38 10 7 9 14 23 9 7 10 22 62 72 83 101 108 108 114 126 156 142 133 142 141 132 125 127 135 149 160 148 145 145 134 112 100 118 134 144 141 132 141 120 98 80 80 87 81 76 47 11 6 7 14 21 10 9 8 30 66 72 84 98 99 86 83 101 112 96 101 115 118 130 136 127 129 148 169 160 150 142 118 100 114 134 127 137 141 127 123 122 104 89 78 83 85 78 59 21 5 6 21 20 7 8 8 38 70 76 89 105 100 81 72 77 80 83 93 75 98 112 141 148 118 130 167 166 151 136 104 88 121 131 104 129 116 71 66 37 57 37 66 99 95 84 68 33 3 2 17 20 4 4 4 42 72 77 95 108 103 80 33 124 61 61 55 132 166 101 111 146 110 112 140 154 146 129 103 89 110 95 54 145 136 25 40 68 102 50 99 112 92 83 71 41 2 4 14 16 3 3 5 42 72 80 95 103 114 124 93 104 119 45 44 129 101 117 128 123 106 112 128 147 151 130 106 94 96 90 99 92 96 71 75 85 65 103 126 115 93 80 72 44 3 7 12 18 4 4 3 37 72 78 87 93 106 121 129 113 119 122 116 105 127 144 136 104 106 114 130 152 165 139 106 97 101 110 117 105 97 104 106 100 106 128 131 115 95 81 71 44 4 11 12 22 7 4 2 29 69 75 85 89 106 121 129 137 134 131 118 108 106 105 107 111 112 116 133 153 167 142 116 110 113 118 118 119 117 111 114 122 133 136 129 115 95 81 68 39 3 12 8 18 9 4 4 19 64 75 83 88 102 122 130 125 125 116 114 121 122 126 132 121 123 123 137 153 169 141 123 126 123 126 128 126 129 130 135 138 141 135 125 113 92 79 66 30 4 10 4 26 9 2 4 11 57 74 81 91 106 118 134 144 151 148 142 139 138 154 143 123 123 123 131 154 175 145 125 120 120 122 132 134 133 138 147 149 137 129 124 112 89 74 62 18 8 7 2 29 9 3 4 3 44 72 82 92 109 122 135 153 159 162 165 159 162 165 140 120 113 118 134 157 175 147 130 113 111 115 124 133 135 147 158 161 142 131 125 104 83 76 54 9 9 4 3 30 11 4 2 0 32 69 81 89 110 128 144 155 175 191 178 162 174 172 127 113 105 122 134 156 173 164 139 116 108 107 120 132 136 139 150 156 141 121 113 92 78 75 44 7 6 2 3 33 13 4 2 0 22 62 76 89 106 121 139 156 180 177 171 180 175 172 136 99 100 119 140 154 165 158 138 120 114 109 122 129 134 142 146 147 136 119 105 86 74 67 40 5 3 3 3 29 11 5 2 0 11 57 74 88 103 117 131 148 170 175 176 182 177 185 119 90 107 135 170 171 157 156 140 119 120 111 121 133 132 146 148 146 135 117 99 81 71 64 38 2 2 3 4 26 13 7 2 2 4 48 73 84 102 115 126 138 157 173 179 182 177 160 99 121 155 163 185 183 167 162 134 138 139 112 109 131 131 141 141 136 128 107 87 75 68 61 34 1 2 3 5 25 15 10 2 4 0 38 73 76 93 108 119 128 143 162 173 166 172 147 106 141 104 88 132 161 150 135 87 82 127 107 104 125 135 135 136 129 118 93 75 68 61 59 31 1 3 3 5 22 18 10 4 4 0 30 73 75 81 92 102 118 136 146 159 170 168 143 127 105 96 102 123 128 119 105 68 78 100 102 121 119 130 131 122 112 101 79 64 60 56 60 27 1 5 4 6 23 17 12 4 3 0 25 76 78 75 81 89 107 123 129 146 156 134 129 126 117 116 107 114 146 128 88 74 73 71 108 121 115 117 123 108 94 81 68 59 56 59 65 26 3 5 5 7 25 18 13 5 3 0 20 76 85 76 79 84 92 108 116 131 127 114 113 109 96 77 65 66 105 97 74 58 51 68 104 116 111 107 107 98 86 72 63 59 58 63 61 20 4 6 6 8 26 19 12 8 3 0 11 68 89 80 75 80 84 95 105 111 103 102 101 89 64 54 58 60 77 65 54 50 46 56 84 96 96 96 94 87 80 69 58 57 60 65 54 11 8 5 8 8 27 19 11 10 4 2 4 54 82 86 76 72 80 87 89 83 76 76 68 63 47 43 55 61 58 57 65 61 52 49 61 59 65 71 80 81 78 65 58 61 62 64 37 6 9 5 11 11 25 19 11 11 6 3 1 28 74 89 85 72 77 81 85 70 54 57 52 59 72 94 119 129 127 126 128 120 107 90 83 61 53 52 62 74 73 60 60 64 63 54 13 8 10 6 12 12 18 18 12 10 8 3 4 3 41 87 87 76 73 79 82 58 63 77 84 122 126 130 139 137 135 129 123 121 118 115 110 92 73 57 52 67 69 56 61 64 61 24 1 14 10 8 15 10 13 19 18 11 9 4 4 3 7 53 71 77 71 71 81 67 83 104 111 101 92 99 106 113 117 111 106 92 84 80 84 95 92 80 60 66 64 57 61 59 31 1 9 15 6 10 16 8 8 20 19 12 12 5 4 4 4 47 74 67 73 66 77 83 88 106 87 72 90 75 62 68 69 59 68 64 54 56 58 78 86 80 62 61 57 57 58 34 1 3 11 14 9 14 15 8 10 27 24 10 12 8 5 5 3 42 106 80 64 73 71 76 88 102 114 105 108 135 107 92 91 95 92 96 98 100 88 94 83 67 61 59 58 56 51 17 2 6 14 14 8 19 15 7 15 26 20 13 16 10 5 6 2 34 96 113 77 67 70 72 80 92 101 115 127 131 150 147 136 140 124 128 116 104 97 75 68 64 60 61 57 52 54 14 4 8 16 10 14 24 9 9 16 40 22 11 14 12 5 6 3 29 89 110 105 69 64 76 80 83 86 94 112 134 135 156 161 158 157 141 110 103 72 61 63 63 61 58 50 65 50 8 5 8 17 10 20 25 6 9 11 29 24 14 14 14 8 7 4 26 86 108 111 102 68 72 80 80 83 84 79 89 100 103 111 110 113 102 88 73 67 66 66 65 60 50 66 73 38 7 8 11 22 13 26 20 5 13 10 32 26 14 11 19 11 9 6 23 78 109 111 114 107 71 75 91 94 94 102 102 100 107 103 97 89 90 93 87 82 77 75 63 52 74 81 64 27 7 12 16 21 14 30 21 5 16 12 36 29 15 10 18 11 10 8 18 73 114 115 114 116 111 73 81 102 106 116 136 162 162 150 135 127 123 114 97 85 86 73 55 80 91 81 56 18 10 12 20 20 20 30 11 9 28 11 31 26 19 7 10 13 10 10 13 60 112 120 121 117 125 118 83 91 110 115 121 134 138 125 117 122 111 102 93 86 78 56 71 99 88 81 45 16 16 17 25 16 30 29 5 18 36 15 27 20 20 9 7 13 9 8 9 40 101 119 123 121 123 129 120 85 79 98 108 103 105 105 108 106 99 96 81 65 53 54 83 97 91 77 30 16 13 19 23 14 36 24 3 31 31 21 40 18 19 12 7 14 14 10 8 26 95 117 123 126 123 122 119 109 86 78 82 82 88 91 90 87 84 69 49 49 51 60 86 98 95 58 22 19 11 22 19 16 33 12 5 39 26\",\n          \"172 156 68 0 5 15 47 81 101 110 115 120 124 127 136 144 151 156 157 159 161 160 166 170 177 177 168 152 141 134 120 106 90 79 71 52 51 41 32 30 44 35 17 2 1 1 1 0 155 130 55 0 5 23 61 89 106 117 122 124 128 132 138 148 159 160 159 164 169 170 174 183 191 186 173 156 142 134 126 114 109 91 73 62 57 65 54 44 41 37 23 11 0 1 0 0 121 102 65 1 4 36 79 96 111 119 126 129 130 135 142 152 159 159 161 166 173 176 180 184 187 184 171 158 152 145 133 126 119 111 99 94 81 60 54 67 59 45 36 27 9 2 0 0 93 92 74 7 6 47 83 100 110 120 125 129 135 137 143 152 157 159 161 165 171 172 173 175 175 172 163 154 152 150 141 132 126 117 109 98 90 91 79 71 73 68 59 44 25 11 0 0 90 90 76 11 9 53 88 98 111 121 124 128 135 139 144 150 155 161 164 164 166 169 171 169 169 168 167 162 158 150 145 142 139 131 119 105 89 89 91 83 78 74 69 47 36 20 8 0 88 88 73 13 5 50 88 95 108 117 122 126 130 135 140 146 154 161 165 164 162 165 168 168 167 169 169 169 169 160 147 147 150 142 129 120 108 101 99 106 97 88 81 64 44 30 15 3 84 85 77 19 0 47 88 95 104 115 122 124 127 131 135 142 151 159 162 162 162 160 161 165 167 167 171 174 171 164 156 146 147 147 140 128 117 113 109 111 116 113 104 82 49 36 19 6 81 82 81 34 1 53 89 94 101 111 120 123 128 130 135 139 146 154 157 159 158 156 159 166 174 179 178 180 170 143 119 101 83 80 87 103 114 118 115 115 113 114 111 97 67 41 26 21 80 77 82 52 4 56 91 98 101 108 116 124 128 129 129 136 142 145 148 152 151 152 154 159 155 140 128 114 101 89 96 100 99 96 84 72 73 101 115 113 114 115 115 104 73 43 36 33 78 76 76 65 17 61 95 100 101 110 119 120 125 126 127 129 134 138 141 144 144 146 133 107 82 63 62 65 92 120 147 151 147 137 130 117 96 79 97 113 116 117 113 103 76 45 39 35 75 74 73 71 38 70 98 100 109 114 119 121 124 126 128 129 131 133 138 141 143 135 95 69 72 76 90 110 128 139 144 145 140 128 119 111 107 103 94 108 117 118 113 103 88 48 44 50 73 71 71 70 51 76 104 93 86 81 77 80 96 111 125 126 129 134 139 141 137 125 101 92 92 95 108 123 139 152 157 157 146 130 109 94 89 95 99 106 112 116 112 106 89 59 43 50 70 69 69 69 60 81 72 35 33 37 42 51 52 73 110 121 123 127 135 136 132 121 109 92 89 104 115 127 132 119 104 96 91 94 89 82 79 91 105 111 113 113 114 111 97 79 49 47 68 67 67 65 66 49 31 45 56 64 68 67 67 72 91 109 115 120 129 134 129 119 103 88 94 103 107 87 53 29 30 15 21 35 41 55 75 95 113 119 117 116 118 116 101 79 63 52 66 66 65 64 59 51 81 96 99 104 106 103 97 86 75 82 98 110 120 129 131 119 103 90 88 95 77 29 7 5 4 5 6 1 0 22 74 100 121 127 125 122 119 116 103 79 57 62 64 63 62 61 59 75 86 97 109 119 124 125 123 118 98 66 71 99 118 131 138 127 113 101 88 96 39 0 2 3 1 40 80 58 72 84 110 128 132 130 128 124 118 112 97 79 58 58 62 62 61 59 58 63 82 94 99 100 100 105 106 108 114 99 62 80 118 144 156 144 131 127 111 87 21 45 56 14 36 82 114 142 125 124 140 142 135 129 128 123 116 106 91 77 62 56 61 60 58 55 55 50 55 46 31 31 40 44 56 85 103 110 88 70 111 151 168 159 147 152 144 89 72 101 83 88 106 126 122 110 118 140 152 150 141 132 126 122 114 102 87 77 63 54 59 58 56 53 52 47 20 5 3 0 6 10 17 52 76 112 112 84 114 153 169 166 151 152 158 143 128 110 92 86 87 90 98 125 146 153 163 158 144 133 127 119 114 104 89 76 64 54 58 56 54 52 49 24 0 0 2 17 10 5 47 147 67 86 131 93 119 151 163 160 150 145 151 158 158 149 135 122 121 132 146 155 152 163 180 169 145 133 127 117 112 104 89 75 66 59 55 55 53 50 46 25 19 15 24 55 15 30 95 137 132 133 129 99 123 148 162 156 146 139 146 158 164 166 166 163 161 162 161 156 158 172 190 172 146 131 122 117 107 98 86 72 66 59 54 53 51 50 43 66 93 69 86 73 76 105 112 104 116 130 123 103 122 148 165 156 145 141 147 157 164 167 165 165 165 161 155 155 167 186 194 168 144 130 119 111 101 94 83 71 67 61 54 51 50 49 42 67 107 82 70 76 73 73 82 102 124 126 112 105 126 152 165 161 149 149 156 160 165 166 168 169 167 166 165 167 182 191 191 170 145 127 115 106 95 88 79 71 70 65 53 52 50 49 44 60 107 117 100 84 89 96 112 129 131 120 107 107 129 149 160 158 148 149 161 164 160 160 168 171 172 177 182 185 183 176 169 155 140 124 109 100 91 83 76 72 69 65 54 54 52 49 46 58 102 119 135 138 136 134 137 138 128 116 105 106 127 146 153 147 139 140 145 150 138 134 139 143 149 152 156 157 157 153 145 137 128 117 105 97 86 77 78 75 71 62 57 56 54 52 47 54 97 116 129 136 143 148 147 137 128 118 104 100 127 143 148 147 139 130 132 136 130 130 139 129 112 102 116 126 129 129 126 119 114 108 97 88 81 79 81 77 71 63 60 58 57 54 50 52 89 111 124 137 151 159 150 135 130 118 97 99 130 147 155 157 147 137 147 158 145 115 142 153 136 106 85 96 108 111 111 107 100 94 85 77 78 84 85 81 71 64 62 59 58 56 52 51 82 106 121 137 156 159 147 135 125 109 100 98 132 160 178 175 153 159 170 145 110 94 144 153 147 159 133 97 94 98 99 95 92 89 77 77 84 90 91 82 72 66 63 61 60 57 55 50 70 100 116 126 145 152 141 129 117 109 107 94 119 142 149 135 131 115 59 26 56 129 158 154 152 144 154 144 109 97 94 90 89 82 80 88 96 97 94 82 72 66 64 63 62 59 56 52 59 89 105 118 124 129 128 119 106 100 99 83 88 110 115 116 85 28 64 116 149 161 160 161 163 152 138 145 133 113 98 91 90 91 95 98 108 104 95 79 70 63 64 64 62 61 57 54 52 69 91 103 112 113 115 114 107 78 60 26 37 61 60 48 42 105 160 154 155 159 158 158 156 159 149 138 142 126 109 102 104 104 105 113 113 106 94 73 67 57 64 63 62 62 59 57 53 49 71 89 95 102 105 105 111 75 70 66 59 62 65 69 114 137 145 139 142 146 144 145 144 149 155 145 137 131 121 122 121 115 118 119 117 107 88 68 63 49 64 63 63 62 60 57 54 48 46 68 80 90 98 107 112 97 94 104 108 124 142 142 134 136 138 137 139 142 141 137 140 139 138 125 121 128 127 132 126 122 125 121 119 106 83 65 56 43 64 64 62 60 59 56 53 52 44 45 64 77 90 106 107 106 111 112 112 117 121 122 135 124 118 119 123 127 129 127 122 118 103 110 125 125 128 130 127 122 123 124 117 97 73 60 46 38 63 62 60 58 58 56 54 51 50 41 48 70 88 101 104 100 104 106 97 93 97 99 110 103 86 69 73 78 80 91 89 82 94 113 130 130 129 125 122 125 125 120 109 86 66 53 38 43 60 59 59 57 56 55 53 51 49 49 45 70 91 94 97 93 100 100 102 104 102 81 77 90 110 103 129 102 78 102 114 132 137 133 135 129 125 122 118 123 121 115 99 75 56 42 34 54 60 59 57 56 55 53 52 50 47 50 47 64 99 98 82 75 74 82 90 69 50 77 87 104 161 166 156 154 170 170 155 135 138 142 140 130 124 119 115 116 115 107 87 63 48 34 41 66 58 56 54 53 51 51 51 49 46 47 51 56 90 111 86 61 57 63 60 86 112 139 151 153 157 157 148 145 153 136 122 129 141 139 139 132 122 115 111 112 108 96 75 55 38 31 59 75 55 53 52 50 49 50 49 47 46 44 48 52 68 106 110 63 72 95 109 130 140 141 145 143 144 140 130 131 132 125 123 123 131 140 143 136 119 111 107 106 98 85 65 45 31 44 76 82 56 54 51 50 48 48 47 45 45 44 42 52 56 83 116 94 68 98 102 99 113 125 126 123 121 117 117 122 118 116 120 121 122 139 147 137 120 109 100 99 91 76 53 34 32 69 87 86 58 55 52 50 48 47 45 44 43 42 40 42 54 60 95 110 88 80 86 91 95 99 99 92 88 95 103 101 97 101 111 116 122 139 143 131 111 102 99 98 85 62 40 28 59 88 95 91 58 57 53 51 49 48 46 44 41 41 40 35 43 51 66 104 98 81 73 74 78 80 83 92 99 100 95 92 99 110 115 118 130 146 134 116 99 99 101 93 75 49 28 47 86 95 100 97 57 56 54 52 48 47 46 42 40 38 37 35 33 43 48 84 106 94 81 66 64 68 75 90 98 96 104 117 134 141 140 133 142 145 119 105 95 100 100 84 60 33 33 82 98 102 103 100 55 54 52 51 48 46 44 41 38 35 34 34 32 32 42 56 98 107 106 94 86 81 86 93 105 123 143 156 157 160 154 145 157 138 116 104 95 101 93 69 39 21 74 104 106 105 106 99 53 52 50 48 46 44 42 39 37 33 32 32 31 31 34 44 73 108 114 118 118 124 132 141 151 159 162 162 167 166 157 159 149 127 116 98 92 92 74 46 14 59 106 102 106 110 103 100 50 50 49 46 45 44 41 38 35 33 30 29 30 31 31 33 53 96 110 121 137 142 143 146 153 159 164 167 168 164 164 150 125 115 107 87 83 77 48 12 33 101 96 106 115 107 105 104 49 48 47 46 44 43 40 37 35 32 29 28 29 30 29 27 30 74 114 107 131 147 145 150 155 158 156 160 158 158 142 113 106 104 88 70 67 47 14 15 84 108 116 118 114 110 109 107 50 49 46 46 44 43 42 39 36 32 29 28 28 27 27 26 23 35 107 110 105 140 145 145 144 136 135 138 138 129 104 89 98 85 57 52 40 13 8 57 114 120 121 117 115 115 113 105\"\n        ],\n        \"semantic_type\": \"\",\n        \"description\": \"\"\n      }\n    }\n  ]\n}"
            }
          },
          "metadata": {},
          "execution_count": 13
        }
      ]
    },
    {
      "cell_type": "code",
      "source": [
        "train_df_t[' Usage'].unique()"
      ],
      "metadata": {
        "colab": {
          "base_uri": "https://localhost:8080/"
        },
        "id": "UKl1BJJvOu7y",
        "outputId": "194944b3-556d-4c07-987a-aee6b5b65c32"
      },
      "execution_count": 14,
      "outputs": [
        {
          "output_type": "execute_result",
          "data": {
            "text/plain": [
              "array(['Training', 'PublicTest', 'PrivateTest'], dtype=object)"
            ]
          },
          "metadata": {},
          "execution_count": 14
        }
      ]
    },
    {
      "cell_type": "code",
      "source": [
        "train_df_t.shape"
      ],
      "metadata": {
        "colab": {
          "base_uri": "https://localhost:8080/"
        },
        "id": "LzUe0jo9OgWb",
        "outputId": "ddf8a53d-4f11-4031-be16-9c5ec7deae8c"
      },
      "execution_count": 15,
      "outputs": [
        {
          "output_type": "execute_result",
          "data": {
            "text/plain": [
              "(35887, 3)"
            ]
          },
          "metadata": {},
          "execution_count": 15
        }
      ]
    },
    {
      "cell_type": "code",
      "source": [
        "train = train_df_t[train_df_t[' Usage'] == 'Training']\n",
        "val = train_df_t[train_df_t[' Usage'] == 'PrivateTest']\n",
        "test = train_df_t[train_df_t[' Usage'] == 'PublicTest']"
      ],
      "metadata": {
        "id": "YSyP_jKKOh-q"
      },
      "execution_count": 16,
      "outputs": []
    },
    {
      "cell_type": "code",
      "source": [
        "print(\"Training samples:\", len(train))\n",
        "print(\"Validation samples:\", len(val))\n",
        "print(\"Test samples:\", len(test))"
      ],
      "metadata": {
        "id": "8OpU_FZOfuh5",
        "colab": {
          "base_uri": "https://localhost:8080/"
        },
        "outputId": "48696f20-5482-47a8-e54d-7f4d2c87fc8b"
      },
      "execution_count": 17,
      "outputs": [
        {
          "output_type": "stream",
          "name": "stdout",
          "text": [
            "Training samples: 28709\n",
            "Validation samples: 3589\n",
            "Test samples: 3589\n"
          ]
        }
      ]
    },
    {
      "cell_type": "code",
      "source": [
        "print(\"\\nClass distribution in training set:\")\n",
        "print(train['emotion'].value_counts())"
      ],
      "metadata": {
        "colab": {
          "base_uri": "https://localhost:8080/"
        },
        "id": "KmKms2oMOUnN",
        "outputId": "5364bdd3-30d0-41a5-c784-fe872fe8c452"
      },
      "execution_count": 18,
      "outputs": [
        {
          "output_type": "stream",
          "name": "stdout",
          "text": [
            "\n",
            "Class distribution in training set:\n",
            "emotion\n",
            "3    7215\n",
            "6    4965\n",
            "4    4830\n",
            "2    4097\n",
            "0    3995\n",
            "5    3171\n",
            "1     436\n",
            "Name: count, dtype: int64\n"
          ]
        }
      ]
    },
    {
      "cell_type": "code",
      "source": [
        "emotion_labels = {\n",
        "    0: 'Angry',\n",
        "    1: 'Disgust',\n",
        "    2: 'Fear',\n",
        "    3: 'Happy',\n",
        "    4: 'Sad',\n",
        "    5: 'Surprise',\n",
        "    6: 'Neutral'\n",
        "}"
      ],
      "metadata": {
        "id": "FYWzgPdjOZO_"
      },
      "execution_count": 19,
      "outputs": []
    },
    {
      "cell_type": "code",
      "source": [
        "import matplotlib.pyplot as plt\n",
        "\n",
        "def plot_sample_images(df, num_samples=5):\n",
        "    fig, axes = plt.subplots(1, num_samples, figsize=(15, 3))\n",
        "    for i in range(num_samples):\n",
        "        sample = df.iloc[i]\n",
        "        pixels = np.array(sample[' pixels'].split(), dtype='uint8')\n",
        "        img = pixels.reshape(48, 48)\n",
        "        axes[i].imshow(img, cmap='gray')\n",
        "        axes[i].set_title(emotion_labels[sample['emotion']])\n",
        "        axes[i].axis('off')\n",
        "    plt.show()\n",
        "\n",
        "print(\"\\nSample training images:\")\n",
        "plot_sample_images(train)"
      ],
      "metadata": {
        "colab": {
          "base_uri": "https://localhost:8080/",
          "height": 207
        },
        "id": "X62EZqQ1OnjS",
        "outputId": "54e2a8f3-eb13-42c5-db94-bf117f8c33f3"
      },
      "execution_count": 20,
      "outputs": [
        {
          "output_type": "stream",
          "name": "stdout",
          "text": [
            "\n",
            "Sample training images:\n"
          ]
        },
        {
          "output_type": "display_data",
          "data": {
            "text/plain": [
              "<Figure size 1500x300 with 5 Axes>"
            ],
            "image/png": "[encoded data removed]"
          },
          "metadata": {}
        }
      ]
    },
    {
      "cell_type": "code",
      "source": [
        "class FERDataset(Dataset):\n",
        "    def __init__(self, df, transform=None):\n",
        "        self.df = df\n",
        "        self.transform = transform\n",
        "\n",
        "    def __len__(self):\n",
        "        return len(self.df)\n",
        "\n",
        "    def __getitem__(self, idx):\n",
        "        pixels = self.df.iloc[idx][' pixels']\n",
        "        pixels = np.array(pixels.split(), dtype='uint8').reshape(48, 48)\n",
        "        image = Image.fromarray(pixels)\n",
        "\n",
        "        if self.transform:\n",
        "            image = self.transform(image)\n",
        "\n",
        "        label = self.df.iloc[idx]['emotion']\n",
        "        return image, label"
      ],
      "metadata": {
        "id": "vAxHfZuoOpcz"
      },
      "execution_count": 21,
      "outputs": []
    },
    {
      "cell_type": "code",
      "source": [
        "from PIL import Image\n",
        "transform_train = transforms.Compose([\n",
        "    transforms.RandomHorizontalFlip(),\n",
        "    transforms.RandomRotation(10),\n",
        "    transforms.ToTensor(),\n",
        "    transforms.Normalize(mean=[0.5], std=[0.5])\n",
        "])\n",
        "\n",
        "transform_val = transforms.Compose([\n",
        "    transforms.ToTensor(),\n",
        "    transforms.Normalize(mean=[0.5], std=[0.5])\n",
        "])"
      ],
      "metadata": {
        "id": "zKMUE8ofOwWF"
      },
      "execution_count": 22,
      "outputs": []
    },
    {
      "cell_type": "code",
      "source": [
        "train_dataset = FERDataset(train, transform=transform_train)\n",
        "val_dataset = FERDataset(val, transform=transform_val)\n",
        "test_dataset = FERDataset(test, transform=transform_val)\n",
        "\n",
        "batch_size = 64\n",
        "train_loader = DataLoader(train_dataset, batch_size=batch_size, shuffle=True)\n",
        "val_loader = DataLoader(val_dataset, batch_size=batch_size, shuffle=False)\n",
        "test_loader = DataLoader(test_dataset, batch_size=batch_size, shuffle=False)"
      ],
      "metadata": {
        "id": "aK3XQkkpOyxS"
      },
      "execution_count": 23,
      "outputs": []
    },
    {
      "cell_type": "code",
      "source": [
        "import torch\n",
        "import torch.nn as nn\n",
        "import torch.nn.functional as F\n",
        "import torch.optim as optim\n",
        "from torch.optim import lr_scheduler\n",
        "import wandb\n",
        "\n",
        "class ImprovedFaceCNN(nn.Module):\n",
        "    def __init__(self, num_classes=7):\n",
        "        super(ImprovedFaceCNN, self).__init__()\n",
        "\n",
        "        self.conv1 = nn.Conv2d(1, 64, kernel_size=3, padding=1)\n",
        "        self.bn1 = nn.BatchNorm2d(64)\n",
        "        self.conv2 = nn.Conv2d(64, 128, kernel_size=3, padding=1)\n",
        "        self.bn2 = nn.BatchNorm2d(128)\n",
        "        self.conv3 = nn.Conv2d(128, 256, kernel_size=3, padding=1)\n",
        "        self.bn3 = nn.BatchNorm2d(256)\n",
        "        self.conv4 = nn.Conv2d(256, 512, kernel_size=3, padding=1)\n",
        "        self.bn4 = nn.BatchNorm2d(512)\n",
        "\n",
        "        self.skip = nn.Sequential(\n",
        "            nn.Conv2d(64, 512, kernel_size=1, stride=8),\n",
        "            nn.BatchNorm2d(512),\n",
        "            nn.ReLU()\n",
        "        )\n",
        "\n",
        "        self.gap = nn.AdaptiveAvgPool2d(1)\n",
        "\n",
        "        self.fc = nn.Sequential(\n",
        "            nn.Linear(512, 512),\n",
        "            nn.BatchNorm1d(512),\n",
        "            nn.ReLU(),\n",
        "            nn.Dropout(0.5),\n",
        "            nn.Linear(512, 256),\n",
        "            nn.BatchNorm1d(256),\n",
        "            nn.ReLU(),\n",
        "            nn.Dropout(0.3),\n",
        "            nn.Linear(256, num_classes))\n",
        "\n",
        "    def forward(self, x):\n",
        "\n",
        "        x1 = F.leaky_relu(self.bn1(self.conv1(x)), negative_slope=0.1)\n",
        "        x = F.max_pool2d(x1, kernel_size=2, stride=2)\n",
        "\n",
        "        x = F.leaky_relu(self.bn2(self.conv2(x)), negative_slope=0.1)\n",
        "        x = F.max_pool2d(x, kernel_size=2, stride=2)\n",
        "\n",
        "        x = F.leaky_relu(self.bn3(self.conv3(x)), negative_slope=0.1)\n",
        "        x = F.max_pool2d(x, kernel_size=2, stride=2)\n",
        "        x = F.leaky_relu(self.bn4(self.conv4(x)), negative_slope=0.1)\n",
        "        x_skip = self.skip(x1)\n",
        "        x = F.max_pool2d(x + x_skip, kernel_size=2, stride=2)\n",
        "        x = self.gap(x)\n",
        "        x = x.view(x.size(0), -1)\n",
        "        x = self.fc(x)\n",
        "        return x"
      ],
      "metadata": {
        "id": "VRD6XuOlO27b"
      },
      "execution_count": 27,
      "outputs": []
    },
    {
      "cell_type": "code",
      "source": [
        "wandb.init(project='facial-expression-recognition', entity=None)  # Replace with your W&B entity"
      ],
      "metadata": {
        "colab": {
          "base_uri": "https://localhost:8080/",
          "height": 126
        },
        "id": "3QPdUzFykgOQ",
        "outputId": "8c9e027e-d813-47f5-e76b-2a722994710d"
      },
      "execution_count": 25,
      "outputs": [
        {
          "output_type": "display_data",
          "data": {
            "text/plain": [
              "<IPython.core.display.HTML object>"
            ],
            "text/html": [
              "Tracking run with wandb version 0.19.11"
            ]
          },
          "metadata": {}
        },
        {
          "output_type": "display_data",
          "data": {
            "text/plain": [
              "<IPython.core.display.HTML object>"
            ],
            "text/html": [
              "Run data is saved locally in <code>/content/wandb/run-20250607_145235-fvkovn2s</code>"
            ]
          },
          "metadata": {}
        },
        {
          "output_type": "display_data",
          "data": {
            "text/plain": [
              "<IPython.core.display.HTML object>"
            ],
            "text/html": [
              "Syncing run <strong><a href='https://wandb.ai/dgogu22-free-university-of-tbilisi-/facial-expression-recognition/runs/fvkovn2s' target=\"_blank\">sleek-elevator-11</a></strong> to <a href='https://wandb.ai/dgogu22-free-university-of-tbilisi-/facial-expression-recognition' target=\"_blank\">Weights & Biases</a> (<a href='https://wandb.me/developer-guide' target=\"_blank\">docs</a>)<br>"
            ]
          },
          "metadata": {}
        },
        {
          "output_type": "display_data",
          "data": {
            "text/plain": [
              "<IPython.core.display.HTML object>"
            ],
            "text/html": [
              " View project at <a href='https://wandb.ai/dgogu22-free-university-of-tbilisi-/facial-expression-recognition' target=\"_blank\">https://wandb.ai/dgogu22-free-university-of-tbilisi-/facial-expression-recognition</a>"
            ]
          },
          "metadata": {}
        },
        {
          "output_type": "display_data",
          "data": {
            "text/plain": [
              "<IPython.core.display.HTML object>"
            ],
            "text/html": [
              " View run at <a href='https://wandb.ai/dgogu22-free-university-of-tbilisi-/facial-expression-recognition/runs/fvkovn2s' target=\"_blank\">https://wandb.ai/dgogu22-free-university-of-tbilisi-/facial-expression-recognition/runs/fvkovn2s</a>"
            ]
          },
          "metadata": {}
        },
        {
          "output_type": "execute_result",
          "data": {
            "text/html": [
              "<button onClick=\"this.nextSibling.style.display='block';this.style.display='none';\">Display W&B run</button><iframe src='https://wandb.ai/dgogu22-free-university-of-tbilisi-/facial-expression-recognition/runs/fvkovn2s?jupyter=true' style='border:none;width:100%;height:420px;display:none;'></iframe>"
            ],
            "text/plain": [
              "<wandb.sdk.wandb_run.Run at 0x7d6ef9fcc090>"
            ]
          },
          "metadata": {},
          "execution_count": 25
        }
      ]
    },
    {
      "cell_type": "code",
      "source": [
        "# Initialize and train the model\n",
        "device = torch.device('cuda' if torch.cuda.is_available() else 'cpu')\n",
        "model = ImprovedFaceCNN().to(device)\n",
        "criterion = nn.CrossEntropyLoss()\n",
        "optimizer = optim.Adam(model.parameters(), lr=0.001, weight_decay=1e-5)\n",
        "scheduler = optim.lr_scheduler.ReduceLROnPlateau(optimizer, mode='max', factor=0.5, patience=5)\n",
        "\n",
        "def train_model(model, train_loader, val_loader, criterion, optimizer, scheduler, num_epochs=50):\n",
        "    best_val_acc = 0.0\n",
        "    best_model_weights = None\n",
        "\n",
        "    for epoch in range(num_epochs):\n",
        "        model.train()\n",
        "        running_loss = 0.0\n",
        "        correct = 0\n",
        "        total = 0\n",
        "\n",
        "        for images, labels in train_loader:\n",
        "            images = images.to(device)\n",
        "            labels = labels.to(device)\n",
        "\n",
        "            optimizer.zero_grad()\n",
        "            outputs = model(images)\n",
        "            loss = criterion(outputs, labels)\n",
        "            loss.backward()\n",
        "            optimizer.step()\n",
        "\n",
        "            running_loss += loss.item()\n",
        "            _, predicted = torch.max(outputs.data, 1)\n",
        "            total += labels.size(0)\n",
        "            correct += (predicted == labels).sum().item()\n",
        "\n",
        "        train_loss = running_loss / len(train_loader)\n",
        "        train_acc = 100 * correct / total\n",
        "\n",
        "        # Validation\n",
        "        val_loss, val_acc = evaluate_model(model, val_loader, criterion)\n",
        "\n",
        "        # Update learning rate based on validation accuracy\n",
        "        scheduler.step(val_acc)  # Pass the metric to scheduler\n",
        "\n",
        "        # Log metrics to W&B\n",
        "        if wandb.run is not None:\n",
        "            wandb.log({\n",
        "                'epoch': epoch,\n",
        "                'train_loss': train_loss,\n",
        "                'train_acc': train_acc,\n",
        "                'val_loss': val_loss,\n",
        "                'val_acc': val_acc,\n",
        "                'lr': optimizer.param_groups[0]['lr']\n",
        "            })\n",
        "\n",
        "        print(f'Epoch [{epoch+1}/{num_epochs}], '\n",
        "              f'Train Loss: {train_loss:.4f}, Train Acc: {train_acc:.2f}%, '\n",
        "              f'Val Loss: {val_loss:.4f}, Val Acc: {val_acc:.2f}%, '\n",
        "              f'LR: {optimizer.param_groups[0][\"lr\"]:.6f}')\n",
        "\n",
        "        # Save best model\n",
        "        if val_acc > best_val_acc:\n",
        "            best_val_acc = val_acc\n",
        "            best_model_weights = model.state_dict()\n",
        "            torch.save(best_model_weights, 'best_model.pth')\n",
        "            print('Best model saved!')\n",
        "\n",
        "    # Load best model weights\n",
        "    model.load_state_dict(best_model_weights)\n",
        "    return model\n",
        "\n",
        "trained_model = train_model(model, train_loader, val_loader, criterion, optimizer, scheduler, num_epochs=50)"
      ],
      "metadata": {
        "colab": {
          "base_uri": "https://localhost:8080/"
        },
        "id": "b0HYUACUO6JB",
        "outputId": "c88301f2-6841-4cc7-e1fc-85ffa9de4faf"
      },
      "execution_count": 29,
      "outputs": [
        {
          "output_type": "stream",
          "name": "stdout",
          "text": [
            "Epoch [1/50], Train Loss: 1.6515, Train Acc: 34.19%, Val Loss: 1.4285, Val Acc: 43.91%, LR: 0.001000\n",
            "Best model saved!\n",
            "Epoch [2/50], Train Loss: 1.3671, Train Acc: 47.40%, Val Loss: 1.3838, Val Acc: 45.11%, LR: 0.001000\n",
            "Best model saved!\n",
            "Epoch [3/50], Train Loss: 1.2547, Train Acc: 52.32%, Val Loss: 1.2020, Val Acc: 54.05%, LR: 0.001000\n",
            "Best model saved!\n",
            "Epoch [4/50], Train Loss: 1.1923, Train Acc: 54.83%, Val Loss: 1.3605, Val Acc: 45.33%, LR: 0.001000\n",
            "Epoch [5/50], Train Loss: 1.1517, Train Acc: 56.23%, Val Loss: 1.1428, Val Acc: 54.97%, LR: 0.001000\n",
            "Best model saved!\n",
            "Epoch [6/50], Train Loss: 1.1132, Train Acc: 57.68%, Val Loss: 1.1624, Val Acc: 55.36%, LR: 0.001000\n",
            "Best model saved!\n",
            "Epoch [7/50], Train Loss: 1.0754, Train Acc: 59.26%, Val Loss: 1.0635, Val Acc: 58.99%, LR: 0.001000\n",
            "Best model saved!\n",
            "Epoch [8/50], Train Loss: 1.0490, Train Acc: 60.55%, Val Loss: 1.2756, Val Acc: 53.91%, LR: 0.001000\n",
            "Epoch [9/50], Train Loss: 1.0190, Train Acc: 61.68%, Val Loss: 1.0478, Val Acc: 60.27%, LR: 0.001000\n",
            "Best model saved!\n",
            "Epoch [10/50], Train Loss: 0.9926, Train Acc: 62.90%, Val Loss: 1.0392, Val Acc: 59.88%, LR: 0.001000\n",
            "Epoch [11/50], Train Loss: 0.9677, Train Acc: 63.68%, Val Loss: 1.1141, Val Acc: 57.37%, LR: 0.001000\n",
            "Epoch [12/50], Train Loss: 0.9392, Train Acc: 64.68%, Val Loss: 1.0481, Val Acc: 59.24%, LR: 0.001000\n",
            "Epoch [13/50], Train Loss: 0.9247, Train Acc: 65.30%, Val Loss: 1.0746, Val Acc: 60.02%, LR: 0.001000\n",
            "Epoch [14/50], Train Loss: 0.8991, Train Acc: 66.26%, Val Loss: 1.0029, Val Acc: 62.13%, LR: 0.001000\n",
            "Best model saved!\n",
            "Epoch [15/50], Train Loss: 0.8768, Train Acc: 67.49%, Val Loss: 1.0788, Val Acc: 60.91%, LR: 0.001000\n",
            "Epoch [16/50], Train Loss: 0.8536, Train Acc: 68.12%, Val Loss: 0.9865, Val Acc: 62.64%, LR: 0.001000\n",
            "Best model saved!\n",
            "Epoch [17/50], Train Loss: 0.8289, Train Acc: 69.20%, Val Loss: 1.0673, Val Acc: 61.02%, LR: 0.001000\n",
            "Epoch [18/50], Train Loss: 0.8124, Train Acc: 69.95%, Val Loss: 0.9893, Val Acc: 63.67%, LR: 0.001000\n",
            "Best model saved!\n",
            "Epoch [19/50], Train Loss: 0.7886, Train Acc: 70.27%, Val Loss: 0.9742, Val Acc: 65.09%, LR: 0.001000\n",
            "Best model saved!\n",
            "Epoch [20/50], Train Loss: 0.7711, Train Acc: 71.27%, Val Loss: 1.0089, Val Acc: 63.50%, LR: 0.001000\n",
            "Epoch [21/50], Train Loss: 0.7486, Train Acc: 72.33%, Val Loss: 1.0610, Val Acc: 63.92%, LR: 0.001000\n",
            "Epoch [22/50], Train Loss: 0.7378, Train Acc: 72.94%, Val Loss: 1.1477, Val Acc: 61.02%, LR: 0.001000\n",
            "Epoch [23/50], Train Loss: 0.7101, Train Acc: 73.72%, Val Loss: 1.0754, Val Acc: 62.05%, LR: 0.001000\n",
            "Epoch [24/50], Train Loss: 0.6959, Train Acc: 74.19%, Val Loss: 1.0634, Val Acc: 62.64%, LR: 0.001000\n",
            "Epoch [25/50], Train Loss: 0.6700, Train Acc: 75.29%, Val Loss: 1.0672, Val Acc: 63.17%, LR: 0.000500\n",
            "Epoch [26/50], Train Loss: 0.5821, Train Acc: 78.86%, Val Loss: 1.0515, Val Acc: 64.31%, LR: 0.000500\n",
            "Epoch [27/50], Train Loss: 0.5507, Train Acc: 80.07%, Val Loss: 1.0637, Val Acc: 65.03%, LR: 0.000500\n",
            "Epoch [28/50], Train Loss: 0.5310, Train Acc: 80.85%, Val Loss: 1.1422, Val Acc: 64.45%, LR: 0.000500\n",
            "Epoch [29/50], Train Loss: 0.5109, Train Acc: 81.67%, Val Loss: 1.2237, Val Acc: 61.41%, LR: 0.000500\n",
            "Epoch [30/50], Train Loss: 0.4857, Train Acc: 82.50%, Val Loss: 1.2387, Val Acc: 64.00%, LR: 0.000500\n",
            "Epoch [31/50], Train Loss: 0.4700, Train Acc: 83.06%, Val Loss: 1.1240, Val Acc: 64.89%, LR: 0.000250\n",
            "Epoch [32/50], Train Loss: 0.4201, Train Acc: 84.83%, Val Loss: 1.1431, Val Acc: 66.17%, LR: 0.000250\n",
            "Best model saved!\n",
            "Epoch [33/50], Train Loss: 0.3965, Train Acc: 85.97%, Val Loss: 1.2163, Val Acc: 64.08%, LR: 0.000250\n",
            "Epoch [34/50], Train Loss: 0.3740, Train Acc: 86.51%, Val Loss: 1.1917, Val Acc: 66.34%, LR: 0.000250\n",
            "Best model saved!\n",
            "Epoch [35/50], Train Loss: 0.3671, Train Acc: 86.71%, Val Loss: 1.2223, Val Acc: 65.37%, LR: 0.000250\n",
            "Epoch [36/50], Train Loss: 0.3570, Train Acc: 86.92%, Val Loss: 1.2288, Val Acc: 66.43%, LR: 0.000250\n",
            "Best model saved!\n",
            "Epoch [37/50], Train Loss: 0.3478, Train Acc: 87.72%, Val Loss: 1.2917, Val Acc: 65.03%, LR: 0.000250\n",
            "Epoch [38/50], Train Loss: 0.3326, Train Acc: 88.16%, Val Loss: 1.3378, Val Acc: 65.45%, LR: 0.000250\n",
            "Epoch [39/50], Train Loss: 0.3301, Train Acc: 88.07%, Val Loss: 1.2812, Val Acc: 66.37%, LR: 0.000250\n",
            "Epoch [40/50], Train Loss: 0.3187, Train Acc: 88.54%, Val Loss: 1.2896, Val Acc: 65.84%, LR: 0.000250\n",
            "Epoch [41/50], Train Loss: 0.3135, Train Acc: 88.67%, Val Loss: 1.3347, Val Acc: 64.86%, LR: 0.000250\n",
            "Epoch [42/50], Train Loss: 0.3063, Train Acc: 88.99%, Val Loss: 1.3476, Val Acc: 66.20%, LR: 0.000125\n",
            "Epoch [43/50], Train Loss: 0.2788, Train Acc: 90.13%, Val Loss: 1.3203, Val Acc: 66.20%, LR: 0.000125\n",
            "Epoch [44/50], Train Loss: 0.2674, Train Acc: 90.53%, Val Loss: 1.3448, Val Acc: 66.01%, LR: 0.000125\n",
            "Epoch [45/50], Train Loss: 0.2607, Train Acc: 90.86%, Val Loss: 1.3782, Val Acc: 66.40%, LR: 0.000125\n",
            "Epoch [46/50], Train Loss: 0.2598, Train Acc: 90.95%, Val Loss: 1.3877, Val Acc: 66.40%, LR: 0.000125\n",
            "Epoch [47/50], Train Loss: 0.2459, Train Acc: 91.17%, Val Loss: 1.4213, Val Acc: 65.92%, LR: 0.000125\n",
            "Epoch [48/50], Train Loss: 0.2457, Train Acc: 91.36%, Val Loss: 1.4240, Val Acc: 66.15%, LR: 0.000063\n",
            "Epoch [49/50], Train Loss: 0.2299, Train Acc: 91.84%, Val Loss: 1.4388, Val Acc: 66.40%, LR: 0.000063\n",
            "Epoch [50/50], Train Loss: 0.2250, Train Acc: 92.11%, Val Loss: 1.4490, Val Acc: 66.62%, LR: 0.000063\n",
            "Best model saved!\n"
          ]
        }
      ]
    },
    {
      "cell_type": "code",
      "source": [
        "print(\"\\nEvaluating on test set...\")\n",
        "model.load_state_dict(torch.load('best_model.pth'))\n",
        "test_loss, test_acc = evaluate_model(model, test_loader, criterion)\n",
        "print(f'Test Loss: {test_loss:.4f}, Test Accuracy: {test_acc:.2f}%')"
      ],
      "metadata": {
        "id": "ZMZgFUw5QvjX",
        "colab": {
          "base_uri": "https://localhost:8080/"
        },
        "outputId": "bd60e62d-a146-45a6-b852-1ac7a02a2225"
      },
      "execution_count": 30,
      "outputs": [
        {
          "output_type": "stream",
          "name": "stdout",
          "text": [
            "\n",
            "Evaluating on test set...\n",
            "Test Loss: 1.5390, Test Accuracy: 65.34%\n"
          ]
        }
      ]
    },
    {
      "cell_type": "code",
      "source": [
        "wandb.log({'test_loss': test_loss, 'test_acc': test_acc})"
      ],
      "metadata": {
        "id": "__sgL33oQx_V"
      },
      "execution_count": 31,
      "outputs": []
    },
    {
      "cell_type": "code",
      "source": [
        "from sklearn.metrics import confusion_matrix, classification_report\n",
        "import seaborn as sns\n",
        "import matplotlib.pyplot as plt\n",
        "\n",
        "# Modify the plot_confusion_matrix function to return predictions and labels\n",
        "def plot_confusion_matrix(model, data_loader):\n",
        "    model.eval()\n",
        "    all_preds = []\n",
        "    all_labels = []\n",
        "\n",
        "    with torch.no_grad():\n",
        "        for images, labels in data_loader:\n",
        "            images = images.to(device)\n",
        "            labels = labels.to(device)\n",
        "\n",
        "            outputs = model(images)\n",
        "            _, preds = torch.max(outputs, 1)\n",
        "\n",
        "            all_preds.extend(preds.cpu().numpy())\n",
        "            all_labels.extend(labels.cpu().numpy())\n",
        "\n",
        "    cm = confusion_matrix(all_labels, all_preds)\n",
        "    plt.figure(figsize=(10, 8))\n",
        "    sns.heatmap(cm, annot=True, fmt='d', cmap='Blues',\n",
        "                xticklabels=emotion_labels.values(),\n",
        "                yticklabels=emotion_labels.values())\n",
        "    plt.xlabel('Predicted')\n",
        "    plt.ylabel('True')\n",
        "    plt.title('Confusion Matrix')\n",
        "    plt.show()\n",
        "    return cm, all_labels, all_preds\n",
        "\n",
        "print(\"\\nTest set confusion matrix:\")\n",
        "cm, all_labels, all_preds = plot_confusion_matrix(model, test_loader)\n",
        "\n",
        "# Now we can use all_labels and all_preds for the classification report\n",
        "print(\"\\nClassification Report:\")\n",
        "print(classification_report(all_labels, all_preds, target_names=emotion_labels.values()))"
      ],
      "metadata": {
        "id": "IX4yAP7EQz26",
        "colab": {
          "base_uri": "https://localhost:8080/",
          "height": 1000
        },
        "outputId": "626cfc92-0ab6-45bc-8143-730bea170028"
      },
      "execution_count": 32,
      "outputs": [
        {
          "output_type": "stream",
          "name": "stdout",
          "text": [
            "\n",
            "Test set confusion matrix:\n"
          ]
        },
        {
          "output_type": "display_data",
          "data": {
            "text/plain": [
              "<Figure size 1000x800 with 2 Axes>"
            ],
            "image/png": "[encoded data removed]"
          },
          "metadata": {}
        },
        {
          "output_type": "stream",
          "name": "stdout",
          "text": [
            "\n",
            "Classification Report:\n",
            "              precision    recall  f1-score   support\n",
            "\n",
            "       Angry       0.54      0.59      0.57       467\n",
            "     Disgust       0.82      0.64      0.72        56\n",
            "        Fear       0.51      0.50      0.50       496\n",
            "       Happy       0.84      0.84      0.84       895\n",
            "         Sad       0.53      0.55      0.54       653\n",
            "    Surprise       0.77      0.81      0.79       415\n",
            "     Neutral       0.62      0.55      0.58       607\n",
            "\n",
            "    accuracy                           0.65      3589\n",
            "   macro avg       0.66      0.64      0.65      3589\n",
            "weighted avg       0.65      0.65      0.65      3589\n",
            "\n"
          ]
        }
      ]
    },
    {
      "cell_type": "code",
      "source": [
        "torch.save(model.state_dict(), 'final_model.pth')\n",
        "wandb.save('final_model.pth')"
      ],
      "metadata": {
        "id": "PHlKMHhoQ-BI",
        "colab": {
          "base_uri": "https://localhost:8080/"
        },
        "outputId": "5808cb08-5255-4b41-9556-5642bd45f05c"
      },
      "execution_count": 33,
      "outputs": [
        {
          "output_type": "execute_result",
          "data": {
            "text/plain": [
              "['/content/wandb/run-20250607_145235-fvkovn2s/files/final_model.pth']"
            ]
          },
          "metadata": {},
          "execution_count": 33
        }
      ]
    },
    {
      "cell_type": "code",
      "source": [
        "wandb.finish()"
      ],
      "metadata": {
        "id": "lx9GHGNmRBb4",
        "colab": {
          "base_uri": "https://localhost:8080/",
          "height": 636
        },
        "outputId": "055f23c0-9d23-4870-8b25-4a77a2a31b62"
      },
      "execution_count": 34,
      "outputs": [
        {
          "output_type": "display_data",
          "data": {
            "text/plain": [
              "<IPython.core.display.HTML object>"
            ],
            "text/html": []
          },
          "metadata": {}
        },
        {
          "output_type": "display_data",
          "data": {
            "text/plain": [
              "<IPython.core.display.HTML object>"
            ],
            "text/html": [
              "<br>    <style><br>        .wandb-row {<br>            display: flex;<br>            flex-direction: row;<br>            flex-wrap: wrap;<br>            justify-content: flex-start;<br>            width: 100%;<br>        }<br>        .wandb-col {<br>            display: flex;<br>            flex-direction: column;<br>            flex-basis: 100%;<br>            flex: 1;<br>            padding: 10px;<br>        }<br>    </style><br><div class=\"wandb-row\"><div class=\"wandb-col\"><h3>Run history:</h3><br/><table class=\"wandb\"><tr><td>epoch</td><td>▁▁▁▂▂▂▂▂▂▃▃▃▃▃▃▄▄▄▄▄▅▅▅▅▅▅▆▆▆▆▆▇▇▇▇▇▇███</td></tr><tr><td>lr</td><td>████████████████████▄▄▄▄▄▂▂▂▂▂▂▂▂▁▁▁▁▁▁▁</td></tr><tr><td>test_acc</td><td>▁</td></tr><tr><td>test_loss</td><td>▁</td></tr><tr><td>train_acc</td><td>▁▃▃▃▄▄▄▄▅▅▅▅▅▅▅▅▆▆▆▆▆▇▇▇▇▇▇▇▇▇██████████</td></tr><tr><td>train_loss</td><td>█▇▆▆▆▅▅▅▅▅▄▄▄▄▄▄▄▄▃▃▃▃▃▂▂▂▂▂▂▂▂▁▁▁▁▁▁▁▁▁</td></tr><tr><td>val_acc</td><td>▁▁▄▁▄▆▄▆▆▅▆▇▆▇▆█▇▇▆▇▇▇█▇▆▇█▇█████▇██████</td></tr><tr><td>val_loss</td><td>█▇▄▇▃▂▅▂▂▃▂▁▃▁▂▁▂▂▄▂▂▂▂▃▅▃▃▅▄▅▆▆▆▆▇▆▇███</td></tr></table><br/></div><div class=\"wandb-col\"><h3>Run summary:</h3><br/><table class=\"wandb\"><tr><td>epoch</td><td>49</td></tr><tr><td>lr</td><td>6e-05</td></tr><tr><td>test_acc</td><td>65.33853</td></tr><tr><td>test_loss</td><td>1.53898</td></tr><tr><td>train_acc</td><td>92.11049</td></tr><tr><td>train_loss</td><td>0.22495</td></tr><tr><td>val_acc</td><td>66.62023</td></tr><tr><td>val_loss</td><td>1.44905</td></tr></table><br/></div></div>"
            ]
          },
          "metadata": {}
        },
        {
          "output_type": "display_data",
          "data": {
            "text/plain": [
              "<IPython.core.display.HTML object>"
            ],
            "text/html": [
              " View run <strong style=\"color:#cdcd00\">sleek-elevator-11</strong> at: <a href='https://wandb.ai/dgogu22-free-university-of-tbilisi-/facial-expression-recognition/runs/fvkovn2s' target=\"_blank\">https://wandb.ai/dgogu22-free-university-of-tbilisi-/facial-expression-recognition/runs/fvkovn2s</a><br> View project at: <a href='https://wandb.ai/dgogu22-free-university-of-tbilisi-/facial-expression-recognition' target=\"_blank\">https://wandb.ai/dgogu22-free-university-of-tbilisi-/facial-expression-recognition</a><br>Synced 5 W&B file(s), 0 media file(s), 0 artifact file(s) and 1 other file(s)"
            ]
          },
          "metadata": {}
        },
        {
          "output_type": "display_data",
          "data": {
            "text/plain": [
              "<IPython.core.display.HTML object>"
            ],
            "text/html": [
              "Find logs at: <code>./wandb/run-20250607_145235-fvkovn2s/logs</code>"
            ]
          },
          "metadata": {}
        }
      ]
    },
    {
      "cell_type": "code",
      "source": [],
      "metadata": {
        "id": "vdqZd8o_gpHN"
      },
      "execution_count": null,
      "outputs": []
    }
  ]
}